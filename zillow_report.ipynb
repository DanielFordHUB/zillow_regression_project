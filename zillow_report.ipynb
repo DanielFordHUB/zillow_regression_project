{
 "cells": [
  {
   "cell_type": "code",
   "execution_count": 2,
   "id": "eb00ef63",
   "metadata": {},
   "outputs": [],
   "source": [
    "import pandas as pd\n",
    "import seaborn as sns\n",
    "import scipy.stats as stats\n",
    "import warnings\n",
    "warnings.filterwarnings('ignore')\n",
    "\n",
    "α = .05\n",
    "\n",
    "from env import get_db_url\n",
    "import wrangle as wr\n",
    "import explore as ex\n",
    "\n",
    "from sklearn.metrics import mean_squared_error, r2_score\n",
    "from sklearn.linear_model import LinearRegression"
   ]
  },
  {
   "cell_type": "markdown",
   "id": "78e0db70",
   "metadata": {},
   "source": [
    "# Project Goals:\n",
    "\n",
    "To create a viable predictive model based off of the 2017 Zillow tax valuations\n",
    "\n",
    "## Description\n",
    "\n",
    "It has become exceedingly important to be able to be able to identify valuable real estate, and properties are flying off the market at an exceptional rate because of the strong buyers market. By analyzing property data from select counties in California, I hope to create a predictive model that can better estimate high value properties on the market.\n"
   ]
  },
  {
   "cell_type": "markdown",
   "id": "f532193e",
   "metadata": {},
   "source": [
    "# Wrangle\n",
    "\n",
    "In this step we aquire and clean the data, making it more useful for analysis.\n",
    "\n",
    "## Acquire\n",
    "\n",
    "### First we selected single family homes with transaction dates in 2017 using the Zillow SQL database\n",
    "\n",
    "    SELECT \n",
    "        bedroomcnt AS bedrooms, \n",
    "        bathroomcnt AS bathrooms,\n",
    "        calculatedfinishedsquarefeet AS sq_ft,\n",
    "        taxvaluedollarcnt AS tax_value,\n",
    "        yearbuilt AS year_built,\n",
    "        lotsizesquarefeet AS lot_size,\n",
    "        fips\n",
    "    FROM\n",
    "        properties_2017\n",
    "       JOIN propertylandusetype using (propertylandusetypeid)\n",
    "       JOIN predictions_2017 USING(parcelid)\n",
    "    WHERE propertylandusedesc in (\"Single Family Residential\", \n",
    "                                \"Inferred Single Family Residential\")\n",
    "       AND transactiondate LIKE \"2017%%\";\n",
    "       \n",
    "### total observations collected: 52,441\n",
    "\n",
    "## Clean\n",
    "\n",
    "- Dropped null and duplicate values\n",
    "- Optimized data by converting select columns data types\n",
    "- Encoded and renamed FIPS to further ease of use and modeling\n",
    "- Removed outliers with a p-value of less than 0.001 using Mehalanobis distance\n",
    "\n",
    "### Total observations after cleaning: 49,586\n",
    "\n",
    "- 94.5% of my total data was left after cleaning, which I am comfortable with for my model\n",
    "\n",
    "\n",
    "#### After acquiring and cleaning the data, the current data was placed into a .csv file for ease of use"
   ]
  },
  {
   "cell_type": "markdown",
   "id": "4927760b",
   "metadata": {},
   "source": [
    "### Data Dictionary:\n",
    "\n",
    "   | Column/Feature | Description |\n",
    "    |--- | --- |\n",
    "    | __bathrooom__ | The number of bathrooms in the home. |\\n\n",
    "    | __bedrooms__ | The number of bedrooms in the home. |\\n\n",
    "    | __tax_value__ | The tax-assessed value of the home. <br> __Not__ the home's ultimate sale price. |\\n\n",
    "    | __sq_feet__ | The home's square footage. |\\n\n",
    "    | __year_built__ | The year the home was built. |\\n\n",
    "    | __fips__ | \\\"Federal Information Process System\\\" code, used to <br> identify zip codes in the U.S. |\\n\n",
    "    | __lot_size__ | The square footage of the lot on which <br> the home is built. |"
   ]
  },
  {
   "cell_type": "code",
   "execution_count": 12,
   "id": "1cc81da4",
   "metadata": {},
   "outputs": [
    {
     "data": {
      "text/html": [
       "<div>\n",
       "<style scoped>\n",
       "    .dataframe tbody tr th:only-of-type {\n",
       "        vertical-align: middle;\n",
       "    }\n",
       "\n",
       "    .dataframe tbody tr th {\n",
       "        vertical-align: top;\n",
       "    }\n",
       "\n",
       "    .dataframe thead th {\n",
       "        text-align: right;\n",
       "    }\n",
       "</style>\n",
       "<table border=\"1\" class=\"dataframe\">\n",
       "  <thead>\n",
       "    <tr style=\"text-align: right;\">\n",
       "      <th></th>\n",
       "      <th>bedrooms</th>\n",
       "      <th>bathrooms</th>\n",
       "      <th>sq_ft</th>\n",
       "      <th>tax_value</th>\n",
       "      <th>year_built</th>\n",
       "      <th>lot_size</th>\n",
       "      <th>LA</th>\n",
       "      <th>orange</th>\n",
       "      <th>ventura</th>\n",
       "    </tr>\n",
       "  </thead>\n",
       "  <tbody>\n",
       "    <tr>\n",
       "      <th>0</th>\n",
       "      <td>4</td>\n",
       "      <td>3.5</td>\n",
       "      <td>3100</td>\n",
       "      <td>1023282</td>\n",
       "      <td>1998</td>\n",
       "      <td>4506</td>\n",
       "      <td>0</td>\n",
       "      <td>1</td>\n",
       "      <td>0</td>\n",
       "    </tr>\n",
       "    <tr>\n",
       "      <th>1</th>\n",
       "      <td>2</td>\n",
       "      <td>1.0</td>\n",
       "      <td>1465</td>\n",
       "      <td>464000</td>\n",
       "      <td>1967</td>\n",
       "      <td>12647</td>\n",
       "      <td>0</td>\n",
       "      <td>0</td>\n",
       "      <td>1</td>\n",
       "    </tr>\n",
       "    <tr>\n",
       "      <th>2</th>\n",
       "      <td>3</td>\n",
       "      <td>2.0</td>\n",
       "      <td>1243</td>\n",
       "      <td>564778</td>\n",
       "      <td>1962</td>\n",
       "      <td>8432</td>\n",
       "      <td>0</td>\n",
       "      <td>1</td>\n",
       "      <td>0</td>\n",
       "    </tr>\n",
       "    <tr>\n",
       "      <th>3</th>\n",
       "      <td>4</td>\n",
       "      <td>3.0</td>\n",
       "      <td>2376</td>\n",
       "      <td>145143</td>\n",
       "      <td>1970</td>\n",
       "      <td>13038</td>\n",
       "      <td>1</td>\n",
       "      <td>0</td>\n",
       "      <td>0</td>\n",
       "    </tr>\n",
       "    <tr>\n",
       "      <th>4</th>\n",
       "      <td>4</td>\n",
       "      <td>3.0</td>\n",
       "      <td>2962</td>\n",
       "      <td>773303</td>\n",
       "      <td>1950</td>\n",
       "      <td>63000</td>\n",
       "      <td>1</td>\n",
       "      <td>0</td>\n",
       "      <td>0</td>\n",
       "    </tr>\n",
       "  </tbody>\n",
       "</table>\n",
       "</div>"
      ],
      "text/plain": [
       "   bedrooms  bathrooms  sq_ft  tax_value  year_built  lot_size  LA  orange  \\\n",
       "0         4        3.5   3100    1023282        1998      4506   0       1   \n",
       "1         2        1.0   1465     464000        1967     12647   0       0   \n",
       "2         3        2.0   1243     564778        1962      8432   0       1   \n",
       "3         4        3.0   2376     145143        1970     13038   1       0   \n",
       "4         4        3.0   2962     773303        1950     63000   1       0   \n",
       "\n",
       "   ventura  \n",
       "0        0  \n",
       "1        1  \n",
       "2        0  \n",
       "3        0  \n",
       "4        0  "
      ]
     },
     "execution_count": 12,
     "metadata": {},
     "output_type": "execute_result"
    }
   ],
   "source": [
    "df = wr.get_zillow_data()\n",
    "df.head()"
   ]
  },
  {
   "cell_type": "code",
   "execution_count": 10,
   "id": "c1614a48",
   "metadata": {},
   "outputs": [],
   "source": []
  },
  {
   "cell_type": "markdown",
   "id": "12e13b95",
   "metadata": {},
   "source": [
    "# Exploration\n",
    "\n",
    "## Key Questions:\n",
    "\n",
    ">- Is there a significant relationship between bedrooms and home value?\n",
    ">- Is there a significant relationship between bathrooms and home value?\n",
    ">- Is there a significant relationship between lot size and home value?\n",
    ">- Is there a significant relationship between square footage and home value?\n",
    ">- Is there a significant relationship between county and home value?"
   ]
  },
  {
   "cell_type": "code",
   "execution_count": 13,
   "id": "f5f4579f",
   "metadata": {},
   "outputs": [
    {
     "data": {
      "image/png": "[encoded data removed]",
      "text/plain": [
       "<Figure size 432x288 with 1 Axes>"
      ]
     },
     "metadata": {
      "needs_background": "light"
     },
     "output_type": "display_data"
    }
   ],
   "source": [
    "sns.jointplot(x = \"bedrooms\", y = \"tax_value\", data = train, kind = 'reg',\n",
    "                  joint_kws = {'line_kws':{'color':'red'}});"
   ]
  },
  {
   "cell_type": "code",
   "execution_count": null,
   "id": "706e1d0a",
   "metadata": {},
   "outputs": [],
   "source": []
  },
  {
   "cell_type": "code",
   "execution_count": null,
   "id": "523da930",
   "metadata": {},
   "outputs": [],
   "source": []
  },
  {
   "cell_type": "code",
   "execution_count": null,
   "id": "b8e287ac",
   "metadata": {},
   "outputs": [],
   "source": []
  },
  {
   "cell_type": "code",
   "execution_count": null,
   "id": "849598e2",
   "metadata": {},
   "outputs": [],
   "source": []
  },
  {
   "cell_type": "code",
   "execution_count": null,
   "id": "f4537793",
   "metadata": {},
   "outputs": [],
   "source": []
  },
  {
   "cell_type": "code",
   "execution_count": null,
   "id": "e7192819",
   "metadata": {},
   "outputs": [],
   "source": []
  },
  {
   "cell_type": "code",
   "execution_count": null,
   "id": "c8260d70",
   "metadata": {},
   "outputs": [],
   "source": []
  },
  {
   "cell_type": "code",
   "execution_count": null,
   "id": "9e46cfff",
   "metadata": {},
   "outputs": [],
   "source": []
  },
  {
   "cell_type": "code",
   "execution_count": null,
   "id": "33baeca9",
   "metadata": {},
   "outputs": [],
   "source": []
  },
  {
   "cell_type": "code",
   "execution_count": null,
   "id": "d9f669e4",
   "metadata": {},
   "outputs": [],
   "source": []
  },
  {
   "cell_type": "code",
   "execution_count": null,
   "id": "a0d3fc8a",
   "metadata": {},
   "outputs": [],
   "source": []
  },
  {
   "cell_type": "code",
   "execution_count": null,
   "id": "d432ef32",
   "metadata": {},
   "outputs": [],
   "source": []
  },
  {
   "cell_type": "code",
   "execution_count": null,
   "id": "1e8fea66",
   "metadata": {},
   "outputs": [],
   "source": []
  },
  {
   "cell_type": "code",
   "execution_count": null,
   "id": "6927795b",
   "metadata": {},
   "outputs": [],
   "source": []
  },
  {
   "cell_type": "code",
   "execution_count": null,
   "id": "df85d0a6",
   "metadata": {},
   "outputs": [],
   "source": []
  },
  {
   "cell_type": "code",
   "execution_count": null,
   "id": "926d74a9",
   "metadata": {},
   "outputs": [],
   "source": []
  },
  {
   "cell_type": "code",
   "execution_count": null,
   "id": "a36f1145",
   "metadata": {},
   "outputs": [],
   "source": []
  },
  {
   "cell_type": "code",
   "execution_count": null,
   "id": "a2f1423c",
   "metadata": {},
   "outputs": [],
   "source": []
  },
  {
   "cell_type": "code",
   "execution_count": null,
   "id": "6a9de43c",
   "metadata": {},
   "outputs": [],
   "source": []
  },
  {
   "cell_type": "code",
   "execution_count": null,
   "id": "59fd5d3e",
   "metadata": {},
   "outputs": [],
   "source": []
  },
  {
   "cell_type": "code",
   "execution_count": null,
   "id": "d7a11d2d",
   "metadata": {},
   "outputs": [],
   "source": []
  },
  {
   "cell_type": "code",
   "execution_count": null,
   "id": "5c3d0978",
   "metadata": {},
   "outputs": [],
   "source": []
  },
  {
   "cell_type": "code",
   "execution_count": null,
   "id": "467b7704",
   "metadata": {},
   "outputs": [],
   "source": []
  },
  {
   "cell_type": "code",
   "execution_count": null,
   "id": "ac9eaacc",
   "metadata": {},
   "outputs": [],
   "source": []
  }
 ],
 "metadata": {
  "kernelspec": {
   "display_name": "Python 3 (ipykernel)",
   "language": "python",
   "name": "python3"
  },
  "language_info": {
   "codemirror_mode": {
    "name": "ipython",
    "version": 3
   },
   "file_extension": ".py",
   "mimetype": "text/x-python",
   "name": "python",
   "nbconvert_exporter": "python",
   "pygments_lexer": "ipython3",
   "version": "3.9.12"
  }
 },
 "nbformat": 4,
 "nbformat_minor": 5
}
