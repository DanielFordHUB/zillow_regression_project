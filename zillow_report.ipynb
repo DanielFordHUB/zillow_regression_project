{
 "cells": [
  {
   "cell_type": "code",
   "execution_count": 1,
   "id": "eb00ef63",
   "metadata": {},
   "outputs": [],
   "source": [
    "import pandas as pd\n",
    "import seaborn as sns\n",
    "import scipy.stats as stats\n",
    "import warnings\n",
    "warnings.filterwarnings('ignore')\n",
    "\n",
    "from env import get_db_url\n",
    "import wrangle as wr\n",
    "import explore as ex\n",
    "import model as mo\n",
    "from sklearn.metrics import mean_squared_error, r2_score\n",
    "from sklearn.linear_model import LinearRegression, LassoLars\n",
    "from sklearn.preprocessing import PolynomialFeatures\n",
    "α = .05"
   ]
  },
  {
   "cell_type": "markdown",
   "id": "6c4bd93b",
   "metadata": {},
   "source": [
    "# Project Goals:\n",
    "\n",
    "To create a viable predictive model based off of the 2017 Zillow tax valuations\n",
    "\n",
    "## Description\n",
    "\n",
    "It has become exceedingly important to be able to be able to identify valuable real estate, and properties are flying off the market at an exceptional rate because of the strong buyers market. By analyzing property data from select counties in California, I hope to create a predictive model that can better estimate high value properties on the market.\n"
   ]
  },
  {
   "cell_type": "markdown",
   "id": "f416ee62",
   "metadata": {},
   "source": [
    "# Wrangle\n",
    "\n",
    "In this step we aquire and clean the data, making it more useful for analysis.\n",
    "\n",
    "## Acquire\n",
    "\n",
    "### First we selected single family homes with transaction dates in 2017 using the Zillow SQL database\n",
    "\n",
    "    SELECT \n",
    "        bedroomcnt AS bedrooms, \n",
    "        bathroomcnt AS bathrooms,\n",
    "        calculatedfinishedsquarefeet AS sq_ft,\n",
    "        taxvaluedollarcnt AS tax_value,\n",
    "        yearbuilt AS year_built,\n",
    "        lotsizesquarefeet AS lot_size,\n",
    "        fips\n",
    "    FROM\n",
    "        properties_2017\n",
    "       JOIN propertylandusetype using (propertylandusetypeid)\n",
    "       JOIN predictions_2017 USING(parcelid)\n",
    "    WHERE propertylandusedesc in (\"Single Family Residential\", \n",
    "                                \"Inferred Single Family Residential\")\n",
    "       AND transactiondate LIKE \"2017%%\";\n",
    "       \n",
    "### total observations collected: 52,441\n",
    "\n",
    "## Clean\n",
    "\n",
    "- Dropped null and duplicate values\n",
    "- Optimized data by converting select columns data types\n",
    "- Encoded and renamed FIPS to further ease of use and modeling\n",
    "- Removed outliers with a p-value of less than 0.001 using Mehalanobis distance\n",
    "\n",
    "### Total observations after cleaning: 49,586\n",
    "\n",
    "- 94.5% of my total data was left after cleaning, which I am comfortable with for my model\n",
    "\n",
    "\n",
    "#### After acquiring and cleaning the data, the current data was placed into a .csv file for ease of use"
   ]
  },
  {
   "cell_type": "markdown",
   "id": "6fc21440",
   "metadata": {},
   "source": [
    "### Data Dictionary:\n",
    "\n",
    "   | Column/Feature | Description |\n",
    "    |--- | --- |\n",
    "    | __bathrooom__ | The number of bathrooms in the home. |\\n\n",
    "    | __bedrooms__ | The number of bedrooms in the home. |\\n\n",
    "    | __tax_value__ | The tax-assessed value of the home. <br> __Not__ the home's ultimate sale price. |\\n\n",
    "    | __sq_feet__ | The home's square footage. |\\n\n",
    "    | __year_built__ | The year the home was built. |\\n\n",
    "    | __fips__ | \\\"Federal Information Process System\\\" code, used to <br> identify zip codes in the U.S. |\\n\n",
    "    | __lot_size__ | The square footage of the lot on which <br> the home is built. |"
   ]
  },
  {
   "cell_type": "code",
   "execution_count": 2,
   "id": "bc6c04b1",
   "metadata": {},
   "outputs": [
    {
     "data": {
      "text/html": [
       "<div>\n",
       "<style scoped>\n",
       "    .dataframe tbody tr th:only-of-type {\n",
       "        vertical-align: middle;\n",
       "    }\n",
       "\n",
       "    .dataframe tbody tr th {\n",
       "        vertical-align: top;\n",
       "    }\n",
       "\n",
       "    .dataframe thead th {\n",
       "        text-align: right;\n",
       "    }\n",
       "</style>\n",
       "<table border=\"1\" class=\"dataframe\">\n",
       "  <thead>\n",
       "    <tr style=\"text-align: right;\">\n",
       "      <th></th>\n",
       "      <th>bedrooms</th>\n",
       "      <th>bathrooms</th>\n",
       "      <th>sq_ft</th>\n",
       "      <th>tax_value</th>\n",
       "      <th>year_built</th>\n",
       "      <th>lot_size</th>\n",
       "      <th>LA</th>\n",
       "      <th>orange</th>\n",
       "      <th>ventura</th>\n",
       "    </tr>\n",
       "  </thead>\n",
       "  <tbody>\n",
       "    <tr>\n",
       "      <th>0</th>\n",
       "      <td>4</td>\n",
       "      <td>3.5</td>\n",
       "      <td>3100</td>\n",
       "      <td>1023282</td>\n",
       "      <td>1998</td>\n",
       "      <td>4506</td>\n",
       "      <td>0</td>\n",
       "      <td>1</td>\n",
       "      <td>0</td>\n",
       "    </tr>\n",
       "    <tr>\n",
       "      <th>1</th>\n",
       "      <td>2</td>\n",
       "      <td>1.0</td>\n",
       "      <td>1465</td>\n",
       "      <td>464000</td>\n",
       "      <td>1967</td>\n",
       "      <td>12647</td>\n",
       "      <td>0</td>\n",
       "      <td>0</td>\n",
       "      <td>1</td>\n",
       "    </tr>\n",
       "    <tr>\n",
       "      <th>2</th>\n",
       "      <td>3</td>\n",
       "      <td>2.0</td>\n",
       "      <td>1243</td>\n",
       "      <td>564778</td>\n",
       "      <td>1962</td>\n",
       "      <td>8432</td>\n",
       "      <td>0</td>\n",
       "      <td>1</td>\n",
       "      <td>0</td>\n",
       "    </tr>\n",
       "    <tr>\n",
       "      <th>3</th>\n",
       "      <td>4</td>\n",
       "      <td>3.0</td>\n",
       "      <td>2376</td>\n",
       "      <td>145143</td>\n",
       "      <td>1970</td>\n",
       "      <td>13038</td>\n",
       "      <td>1</td>\n",
       "      <td>0</td>\n",
       "      <td>0</td>\n",
       "    </tr>\n",
       "    <tr>\n",
       "      <th>4</th>\n",
       "      <td>4</td>\n",
       "      <td>3.0</td>\n",
       "      <td>2962</td>\n",
       "      <td>773303</td>\n",
       "      <td>1950</td>\n",
       "      <td>63000</td>\n",
       "      <td>1</td>\n",
       "      <td>0</td>\n",
       "      <td>0</td>\n",
       "    </tr>\n",
       "  </tbody>\n",
       "</table>\n",
       "</div>"
      ],
      "text/plain": [
       "   bedrooms  bathrooms  sq_ft  tax_value  year_built  lot_size  LA  orange  \\\n",
       "0         4        3.5   3100    1023282        1998      4506   0       1   \n",
       "1         2        1.0   1465     464000        1967     12647   0       0   \n",
       "2         3        2.0   1243     564778        1962      8432   0       1   \n",
       "3         4        3.0   2376     145143        1970     13038   1       0   \n",
       "4         4        3.0   2962     773303        1950     63000   1       0   \n",
       "\n",
       "   ventura  \n",
       "0        0  \n",
       "1        1  \n",
       "2        0  \n",
       "3        0  \n",
       "4        0  "
      ]
     },
     "execution_count": 2,
     "metadata": {},
     "output_type": "execute_result"
    }
   ],
   "source": [
    "df = wr.get_zillow_data()\n",
    "df.head()"
   ]
  },
  {
   "cell_type": "markdown",
   "id": "ab6489ec",
   "metadata": {},
   "source": [
    "# Exploration & Visualization\n",
    "\n",
    "## Key Questions:\n",
    "\n",
    ">- Is there a significant relationship between bedrooms and home value?\n",
    ">- Is there a significant relationship between bathrooms and home value?\n",
    ">- Is there a significant relationship between lot size and home value?\n",
    ">- Is there a significant relationship between square footage and home value?\n",
    ">- Is there a significant relationship between year built and home value?"
   ]
  },
  {
   "cell_type": "markdown",
   "id": "e9e6af2a",
   "metadata": {},
   "source": [
    "## Is there a significant relationship between bedrooms and home value?"
   ]
  },
  {
   "cell_type": "code",
   "execution_count": 3,
   "id": "4167e529",
   "metadata": {},
   "outputs": [
    {
     "data": {
      "image/png": "[encoded data removed]",
      "text/plain": [
       "<Figure size 432x432 with 3 Axes>"
      ]
     },
     "metadata": {
      "needs_background": "light"
     },
     "output_type": "display_data"
    }
   ],
   "source": [
    "ex.joint('bedrooms', 'tax_value', df)"
   ]
  },
  {
   "cell_type": "markdown",
   "id": "17210bbd",
   "metadata": {},
   "source": [
    "**Null Hypothesis:** There is no significant relationship between the number of bedrooms and the assessed value.\n",
    "\n",
    "**Alternative Hypothesis:** There is a significant relationship between the number of bedrooms and the assessed value.\n",
    "\n",
    "**Findings:** There is sufficient evidence to reject the null and assert that there is a significant relationship between bedrooms and the assessed value.\n",
    "    \n",
    "- The prefered number of bedrooms for valuation seems to be between 3 & 5"
   ]
  },
  {
   "cell_type": "code",
   "execution_count": 4,
   "id": "e3206fe5",
   "metadata": {},
   "outputs": [
    {
     "name": "stdout",
     "output_type": "stream",
     "text": [
      "Sufficient evidence -> Reject the null hypothesis.\n",
      "The correlation coefficient for bedrooms and value is 0.26.\n"
     ]
    }
   ],
   "source": [
    "#Running a Pearson's R test to check the correlation between square footage and a home's value:\n",
    "corr, p = stats.pearsonr(df.bedrooms, df.tax_value)\n",
    "\n",
    "#Running a significance test to determine whether we can reject the null:\n",
    "ex.significance_test(p)\n",
    "print(f'The correlation coefficient for bedrooms and value is {round(corr, 2)}.')"
   ]
  },
  {
   "cell_type": "markdown",
   "id": "08ef1630",
   "metadata": {},
   "source": [
    "## Is there a significant relationship between bathrooms and home value?"
   ]
  },
  {
   "cell_type": "code",
   "execution_count": 5,
   "id": "ba4b4b7a",
   "metadata": {},
   "outputs": [
    {
     "data": {
      "image/png": "[encoded data removed]",
      "text/plain": [
       "<Figure size 432x432 with 3 Axes>"
      ]
     },
     "metadata": {
      "needs_background": "light"
     },
     "output_type": "display_data"
    }
   ],
   "source": [
    "ex.joint('bathrooms', 'tax_value', df)"
   ]
  },
  {
   "cell_type": "markdown",
   "id": "128a85c8",
   "metadata": {},
   "source": [
    "**Null Hypothesis:** There is no significant relationship between the number of bathrooms and the assessed value.\n",
    "\n",
    "**Alternative Hypothesis:** There is a significant relationship between the number of bathrooms and the assessed value.\n",
    "\n",
    "**Findings:** There is sufficient evidence to reject the null and assert that there is a significant relationship between bathrooms and the assessed value."
   ]
  },
  {
   "cell_type": "code",
   "execution_count": 6,
   "id": "e6f6267d",
   "metadata": {},
   "outputs": [
    {
     "name": "stdout",
     "output_type": "stream",
     "text": [
      "Sufficient evidence -> Reject the null hypothesis.\n",
      "The correlation coefficient for bathrooms and value is 0.5.\n"
     ]
    }
   ],
   "source": [
    "#Running a Pearson's R test to check the correlation between square footage and a home's value:\n",
    "corr, p = stats.pearsonr(df.bathrooms, df.tax_value)\n",
    "\n",
    "#Running a significance test to determine whether we can reject the null:\n",
    "ex.significance_test(p)\n",
    "print(f'The correlation coefficient for bathrooms and value is {round(corr, 2)}.')"
   ]
  },
  {
   "cell_type": "markdown",
   "id": "454b93a9",
   "metadata": {},
   "source": [
    "## Is there a significant relationship between lot size and home value?"
   ]
  },
  {
   "cell_type": "code",
   "execution_count": 7,
   "id": "508258f8",
   "metadata": {},
   "outputs": [
    {
     "data": {
      "image/png": "[encoded data removed]",
      "text/plain": [
       "<Figure size 432x432 with 3 Axes>"
      ]
     },
     "metadata": {
      "needs_background": "light"
     },
     "output_type": "display_data"
    }
   ],
   "source": [
    "ex.joint('lot_size', 'tax_value', df)"
   ]
  },
  {
   "cell_type": "markdown",
   "id": "cd006bff",
   "metadata": {},
   "source": [
    "**Null Hypothesis:** There is no significant relationship between the lot size and the assessed value.\n",
    "\n",
    "**Alternative Hypothesis:** There is a significant relationship between the lot size and the assessed value.\n",
    "\n",
    "**Findings:** There is sufficient evidence to reject the null and assert that there is a significant relationship between lot size and the assessed value."
   ]
  },
  {
   "cell_type": "code",
   "execution_count": 8,
   "id": "61244d0e",
   "metadata": {},
   "outputs": [
    {
     "name": "stdout",
     "output_type": "stream",
     "text": [
      "Sufficient evidence -> Reject the null hypothesis.\n",
      "The correlation coefficient for lot size and value is 0.11.\n"
     ]
    }
   ],
   "source": [
    "#Running a Pearson's R test to check the correlation between square footage and a home's value:\n",
    "corr, p = stats.pearsonr(df.lot_size, df.tax_value)\n",
    "\n",
    "#Running a significance test to determine whether we can reject the null:\n",
    "ex.significance_test(p)\n",
    "print(f'The correlation coefficient for lot size and value is {round(corr, 2)}.')"
   ]
  },
  {
   "cell_type": "markdown",
   "id": "ffc87fe0",
   "metadata": {},
   "source": [
    "## Is there a significant relationship between square footage and home value?"
   ]
  },
  {
   "cell_type": "code",
   "execution_count": 9,
   "id": "7c1e5ad6",
   "metadata": {},
   "outputs": [
    {
     "data": {
      "image/png": "[encoded data removed]",
      "text/plain": [
       "<Figure size 432x432 with 3 Axes>"
      ]
     },
     "metadata": {
      "needs_background": "light"
     },
     "output_type": "display_data"
    }
   ],
   "source": [
    "ex.joint('sq_ft', 'tax_value', df)"
   ]
  },
  {
   "cell_type": "markdown",
   "id": "6fcc9905",
   "metadata": {},
   "source": [
    "**Null Hypothesis:** There is no significant relationship between the square footage and the assessed value.\n",
    "\n",
    "**Alternative Hypothesis:** There is a significant relationship between the square footage and the assessed value.\n",
    "\n",
    "**Findings:** There is sufficient evidence to reject the null and assert that there is a significant relationship between square footage and the assessed value."
   ]
  },
  {
   "cell_type": "code",
   "execution_count": 10,
   "id": "8ff360b6",
   "metadata": {},
   "outputs": [
    {
     "name": "stdout",
     "output_type": "stream",
     "text": [
      "Sufficient evidence -> Reject the null hypothesis.\n",
      "The correlation coefficient for square footage and value is 0.58.\n"
     ]
    }
   ],
   "source": [
    "#Running a Pearson's R test to check the correlation between square footage and a home's value:\n",
    "corr, p = stats.pearsonr(df.sq_ft, df.tax_value)\n",
    "\n",
    "#Running a significance test to determine whether we can reject the null:\n",
    "ex.significance_test(p)\n",
    "print(f'The correlation coefficient for square footage and value is {round(corr, 2)}.')"
   ]
  },
  {
   "cell_type": "markdown",
   "id": "822ea77c",
   "metadata": {},
   "source": [
    "## Is there a significant relationship between year built and home value?"
   ]
  },
  {
   "cell_type": "code",
   "execution_count": 11,
   "id": "2f6afa3d",
   "metadata": {},
   "outputs": [
    {
     "data": {
      "image/png": "[encoded data removed]",
      "text/plain": [
       "<Figure size 432x432 with 3 Axes>"
      ]
     },
     "metadata": {
      "needs_background": "light"
     },
     "output_type": "display_data"
    }
   ],
   "source": [
    "ex.joint('year_built', 'tax_value', df)"
   ]
  },
  {
   "cell_type": "markdown",
   "id": "9add9a7d",
   "metadata": {},
   "source": [
    "**Null Hypothesis:** There is no significant relationship between the year built and the assessed value.\n",
    "\n",
    "**Alternative Hypothesis:** There is a significant relationship between the year built and the assessed value.\n",
    "\n",
    "**Findings:** There is sufficient evidence to reject the null and assert that there is a significant relationship between year built and the assessed value."
   ]
  },
  {
   "cell_type": "code",
   "execution_count": 12,
   "id": "d6ae7332",
   "metadata": {},
   "outputs": [
    {
     "name": "stdout",
     "output_type": "stream",
     "text": [
      "Sufficient evidence -> Reject the null hypothesis.\n",
      "The correlation coefficient for year built and value is 0.24.\n"
     ]
    }
   ],
   "source": [
    "#Running a Pearson's R test to check the correlation between square footage and a home's value:\n",
    "corr, p = stats.pearsonr(df.year_built, df.tax_value)\n",
    "\n",
    "#Running a significance test to determine whether we can reject the null:\n",
    "ex.significance_test(p)\n",
    "print(f'The correlation coefficient for year built and value is {round(corr, 2)}.')"
   ]
  },
  {
   "cell_type": "markdown",
   "id": "e237a889",
   "metadata": {},
   "source": [
    "## Key takeaway\n",
    "\n",
    "### there is significant correlation with:\n",
    "    \n",
    "   | Feature | Correlation |\n",
    "   |--|--|\n",
    "   | Square feet | 0.58 |\n",
    "   | Bathrooms | 0.50 |\n",
    "   | Bedrooms | 0.26 |\n",
    "   | Year Built | 0.24 |\n",
    "   | Lot Size | 0.11"
   ]
  },
  {
   "cell_type": "markdown",
   "id": "c851872f",
   "metadata": {},
   "source": [
    "# Modeling\n",
    "\n",
    "## Data prep for modeling\n",
    "\n",
    "### Train Validate and Test split, X / Y sets, and scaling"
   ]
  },
  {
   "cell_type": "code",
   "execution_count": 13,
   "id": "da4abeca",
   "metadata": {
    "scrolled": true
   },
   "outputs": [
    {
     "name": "stdout",
     "output_type": "stream",
     "text": [
      "train\t n = 27767\n",
      "test\t n = 9918\n",
      "validate n = 11901\n"
     ]
    }
   ],
   "source": [
    "# Creating Train, Validate, and Test sets\n",
    "train, validate, test = mo.train_test_validate_split(df)"
   ]
  },
  {
   "cell_type": "code",
   "execution_count": 14,
   "id": "b18e507c",
   "metadata": {},
   "outputs": [],
   "source": [
    "# Scaling the data\n",
    "train_scaled, validate_scaled, test_scaled = mo.MM_scale_zillow(train, validate, test)"
   ]
  },
  {
   "cell_type": "code",
   "execution_count": 15,
   "id": "b1dc3468",
   "metadata": {},
   "outputs": [
    {
     "data": {
      "text/plain": [
       "((27767, 9), (9918, 9), (11901, 9))"
      ]
     },
     "execution_count": 15,
     "metadata": {},
     "output_type": "execute_result"
    }
   ],
   "source": [
    "train_scaled.shape, validate_scaled.shape, test_scaled.shape"
   ]
  },
  {
   "cell_type": "code",
   "execution_count": 16,
   "id": "db14ccc4",
   "metadata": {},
   "outputs": [
    {
     "data": {
      "text/html": [
       "<div>\n",
       "<style scoped>\n",
       "    .dataframe tbody tr th:only-of-type {\n",
       "        vertical-align: middle;\n",
       "    }\n",
       "\n",
       "    .dataframe tbody tr th {\n",
       "        vertical-align: top;\n",
       "    }\n",
       "\n",
       "    .dataframe thead th {\n",
       "        text-align: right;\n",
       "    }\n",
       "</style>\n",
       "<table border=\"1\" class=\"dataframe\">\n",
       "  <thead>\n",
       "    <tr style=\"text-align: right;\">\n",
       "      <th></th>\n",
       "      <th>bedrooms</th>\n",
       "      <th>bathrooms</th>\n",
       "      <th>sq_ft</th>\n",
       "      <th>tax_value</th>\n",
       "      <th>year_built</th>\n",
       "      <th>lot_size</th>\n",
       "      <th>LA</th>\n",
       "      <th>orange</th>\n",
       "      <th>ventura</th>\n",
       "    </tr>\n",
       "  </thead>\n",
       "  <tbody>\n",
       "    <tr>\n",
       "      <th>47983</th>\n",
       "      <td>0.500000</td>\n",
       "      <td>0.333333</td>\n",
       "      <td>0.172335</td>\n",
       "      <td>0.014476</td>\n",
       "      <td>0.549618</td>\n",
       "      <td>0.024584</td>\n",
       "      <td>1.0</td>\n",
       "      <td>0.0</td>\n",
       "      <td>0.0</td>\n",
       "    </tr>\n",
       "    <tr>\n",
       "      <th>41197</th>\n",
       "      <td>0.500000</td>\n",
       "      <td>0.333333</td>\n",
       "      <td>0.268370</td>\n",
       "      <td>0.153646</td>\n",
       "      <td>0.496183</td>\n",
       "      <td>0.018301</td>\n",
       "      <td>1.0</td>\n",
       "      <td>0.0</td>\n",
       "      <td>0.0</td>\n",
       "    </tr>\n",
       "    <tr>\n",
       "      <th>6789</th>\n",
       "      <td>0.333333</td>\n",
       "      <td>0.166667</td>\n",
       "      <td>0.097269</td>\n",
       "      <td>0.034492</td>\n",
       "      <td>0.274809</td>\n",
       "      <td>0.014754</td>\n",
       "      <td>1.0</td>\n",
       "      <td>0.0</td>\n",
       "      <td>0.0</td>\n",
       "    </tr>\n",
       "    <tr>\n",
       "      <th>35424</th>\n",
       "      <td>0.666667</td>\n",
       "      <td>0.416667</td>\n",
       "      <td>0.304317</td>\n",
       "      <td>0.196990</td>\n",
       "      <td>0.870229</td>\n",
       "      <td>0.007476</td>\n",
       "      <td>0.0</td>\n",
       "      <td>1.0</td>\n",
       "      <td>0.0</td>\n",
       "    </tr>\n",
       "    <tr>\n",
       "      <th>44266</th>\n",
       "      <td>0.666667</td>\n",
       "      <td>0.333333</td>\n",
       "      <td>0.282819</td>\n",
       "      <td>0.210718</td>\n",
       "      <td>0.519084</td>\n",
       "      <td>0.016652</td>\n",
       "      <td>1.0</td>\n",
       "      <td>0.0</td>\n",
       "      <td>0.0</td>\n",
       "    </tr>\n",
       "  </tbody>\n",
       "</table>\n",
       "</div>"
      ],
      "text/plain": [
       "       bedrooms  bathrooms     sq_ft  tax_value  year_built  lot_size   LA  \\\n",
       "47983  0.500000   0.333333  0.172335   0.014476    0.549618  0.024584  1.0   \n",
       "41197  0.500000   0.333333  0.268370   0.153646    0.496183  0.018301  1.0   \n",
       "6789   0.333333   0.166667  0.097269   0.034492    0.274809  0.014754  1.0   \n",
       "35424  0.666667   0.416667  0.304317   0.196990    0.870229  0.007476  0.0   \n",
       "44266  0.666667   0.333333  0.282819   0.210718    0.519084  0.016652  1.0   \n",
       "\n",
       "       orange  ventura  \n",
       "47983     0.0      0.0  \n",
       "41197     0.0      0.0  \n",
       "6789      0.0      0.0  \n",
       "35424     1.0      0.0  \n",
       "44266     0.0      0.0  "
      ]
     },
     "execution_count": 16,
     "metadata": {},
     "output_type": "execute_result"
    }
   ],
   "source": [
    "train_scaled.head()"
   ]
  },
  {
   "cell_type": "code",
   "execution_count": 17,
   "id": "59acd4e1",
   "metadata": {},
   "outputs": [],
   "source": [
    "#Splitting Train Set:\n",
    "X_train = train_scaled.drop(columns = ['tax_value'])\n",
    "y_train = train.drop(columns = X_train)\n",
    "\n",
    "#Splitting Validate Set:\n",
    "X_validate = validate_scaled.drop(columns = ['tax_value'])\n",
    "y_validate = validate.drop(columns = X_validate)\n",
    "\n",
    "#Splitting Test Set:\n",
    "X_test = test_scaled.drop(columns = ['tax_value'])\n",
    "y_test = test.drop(columns = X_test)"
   ]
  },
  {
   "cell_type": "markdown",
   "id": "0d65425d",
   "metadata": {},
   "source": [
    "## Baseline model"
   ]
  },
  {
   "cell_type": "code",
   "execution_count": 18,
   "id": "8053307e",
   "metadata": {},
   "outputs": [],
   "source": [
    "#Adding mean baseline value to y_train:\n",
    "y_train['baseline_mean'] = y_train.tax_value.mean()\n",
    "#Adding mean baseline value to y_validate:\n",
    "y_validate['baseline_mean'] = y_validate.tax_value.mean()"
   ]
  },
  {
   "cell_type": "markdown",
   "id": "0d324d12",
   "metadata": {},
   "source": [
    "## Calculating RMSE "
   ]
  },
  {
   "cell_type": "code",
   "execution_count": 19,
   "id": "28bc90be",
   "metadata": {},
   "outputs": [
    {
     "data": {
      "text/html": [
       "<div>\n",
       "<style scoped>\n",
       "    .dataframe tbody tr th:only-of-type {\n",
       "        vertical-align: middle;\n",
       "    }\n",
       "\n",
       "    .dataframe tbody tr th {\n",
       "        vertical-align: top;\n",
       "    }\n",
       "\n",
       "    .dataframe thead th {\n",
       "        text-align: right;\n",
       "    }\n",
       "</style>\n",
       "<table border=\"1\" class=\"dataframe\">\n",
       "  <thead>\n",
       "    <tr style=\"text-align: right;\">\n",
       "      <th></th>\n",
       "      <th>model</th>\n",
       "      <th>RMSE_train</th>\n",
       "      <th>RMSE_validate</th>\n",
       "    </tr>\n",
       "  </thead>\n",
       "  <tbody>\n",
       "    <tr>\n",
       "      <th>0</th>\n",
       "      <td>baseline_mean</td>\n",
       "      <td>389831.755763</td>\n",
       "      <td>382873.659124</td>\n",
       "    </tr>\n",
       "  </tbody>\n",
       "</table>\n",
       "</div>"
      ],
      "text/plain": [
       "           model     RMSE_train  RMSE_validate\n",
       "0  baseline_mean  389831.755763  382873.659124"
      ]
     },
     "execution_count": 19,
     "metadata": {},
     "output_type": "execute_result"
    }
   ],
   "source": [
    "# Creating an empty list for baseline results:\n",
    "results = []\n",
    "\n",
    "# Creating a dictionary of baseline mean values:\n",
    "baseline_mean = {\n",
    "    'model':'baseline_mean',\n",
    "    'RMSE_train': mean_squared_error(y_train['tax_value'], y_train['baseline_mean']) ** 0.5,\n",
    "    'RMSE_validate': mean_squared_error(y_validate['tax_value'], y_validate['baseline_mean'])** 0.5\n",
    "}\n",
    "#Appending baseline mean to results list:\n",
    "results.append(baseline_mean)\n",
    "\n",
    "#Creating a DataFrame from the list of result dictionaries:\n",
    "results = pd.DataFrame(results)\n",
    "results"
   ]
  },
  {
   "cell_type": "markdown",
   "id": "abdd71e5",
   "metadata": {},
   "source": [
    "# OLS Model"
   ]
  },
  {
   "cell_type": "code",
   "execution_count": 20,
   "id": "cf4d00fd",
   "metadata": {},
   "outputs": [
    {
     "data": {
      "text/html": [
       "<div>\n",
       "<style scoped>\n",
       "    .dataframe tbody tr th:only-of-type {\n",
       "        vertical-align: middle;\n",
       "    }\n",
       "\n",
       "    .dataframe tbody tr th {\n",
       "        vertical-align: top;\n",
       "    }\n",
       "\n",
       "    .dataframe thead th {\n",
       "        text-align: right;\n",
       "    }\n",
       "</style>\n",
       "<table border=\"1\" class=\"dataframe\">\n",
       "  <thead>\n",
       "    <tr style=\"text-align: right;\">\n",
       "      <th></th>\n",
       "      <th>model</th>\n",
       "      <th>RMSE_train</th>\n",
       "      <th>RMSE_validate</th>\n",
       "    </tr>\n",
       "  </thead>\n",
       "  <tbody>\n",
       "    <tr>\n",
       "      <th>0</th>\n",
       "      <td>baseline_mean</td>\n",
       "      <td>389831.755763</td>\n",
       "      <td>382873.659124</td>\n",
       "    </tr>\n",
       "    <tr>\n",
       "      <th>1</th>\n",
       "      <td>ols_regression</td>\n",
       "      <td>310510.727308</td>\n",
       "      <td>304374.085637</td>\n",
       "    </tr>\n",
       "  </tbody>\n",
       "</table>\n",
       "</div>"
      ],
      "text/plain": [
       "            model     RMSE_train  RMSE_validate\n",
       "0   baseline_mean  389831.755763  382873.659124\n",
       "1  ols_regression  310510.727308  304374.085637"
      ]
     },
     "execution_count": 20,
     "metadata": {},
     "output_type": "execute_result"
    }
   ],
   "source": [
    "#Creating an empty list for the error calculations:\n",
    "error = []\n",
    "\n",
    "# Creating the Model Object:\n",
    "lm = LinearRegression(normalize=True)\n",
    "\n",
    "# Fitting the model to the value in the training set:\n",
    "lm.fit(X_train, y_train.tax_value)\n",
    "\n",
    "# Using OLS to make predictions on training set:\n",
    "y_train['OLS_pred'] = lm.predict(X_train)\n",
    "\n",
    "# Calculating the RMSE for train:\n",
    "rmse_train = mean_squared_error(y_train.tax_value, y_train.OLS_pred)**(0.5)\n",
    "\n",
    "# Using OLS to make predictions on validate set:\n",
    "y_validate['OLS_pred'] = lm.predict(X_validate)\n",
    "\n",
    "# Calculating the RMSE for validate:\n",
    "rmse_validate = mean_squared_error(y_validate.tax_value, y_validate.OLS_pred)**(0.5)\n",
    "\n",
    "#Creating a dictionary of ols_regression stats:\n",
    "ols_regression = {\n",
    "    'model':'ols_regression',\n",
    "    'RMSE_train': mean_squared_error(y_train['tax_value'], y_train['OLS_pred'])**(0.5),\n",
    "    'RMSE_validate': mean_squared_error(y_validate['tax_value'], y_validate['OLS_pred'])**(0.5)\n",
    "}\n",
    "\n",
    "#Adding the ols_regression stats to the empty list:\n",
    "error.append(ols_regression)\n",
    "#Converting the list to a DataFrame:\n",
    "error = pd.DataFrame(error)\n",
    "\n",
    "#Concatenating the RMSE DataFrames, ignoring index so it auto-updates in the final DataFrame:\n",
    "results = pd.concat([results, error], ignore_index = True)\n",
    "results"
   ]
  },
  {
   "cell_type": "markdown",
   "id": "46b969dd",
   "metadata": {},
   "source": [
    "## Lasso Lars"
   ]
  },
  {
   "cell_type": "code",
   "execution_count": 21,
   "id": "242df430",
   "metadata": {},
   "outputs": [
    {
     "data": {
      "text/html": [
       "<div>\n",
       "<style scoped>\n",
       "    .dataframe tbody tr th:only-of-type {\n",
       "        vertical-align: middle;\n",
       "    }\n",
       "\n",
       "    .dataframe tbody tr th {\n",
       "        vertical-align: top;\n",
       "    }\n",
       "\n",
       "    .dataframe thead th {\n",
       "        text-align: right;\n",
       "    }\n",
       "</style>\n",
       "<table border=\"1\" class=\"dataframe\">\n",
       "  <thead>\n",
       "    <tr style=\"text-align: right;\">\n",
       "      <th></th>\n",
       "      <th>model</th>\n",
       "      <th>RMSE_train</th>\n",
       "      <th>RMSE_validate</th>\n",
       "    </tr>\n",
       "  </thead>\n",
       "  <tbody>\n",
       "    <tr>\n",
       "      <th>0</th>\n",
       "      <td>baseline_mean</td>\n",
       "      <td>389831.755763</td>\n",
       "      <td>382873.659124</td>\n",
       "    </tr>\n",
       "    <tr>\n",
       "      <th>1</th>\n",
       "      <td>ols_regression</td>\n",
       "      <td>310510.727308</td>\n",
       "      <td>304374.085637</td>\n",
       "    </tr>\n",
       "    <tr>\n",
       "      <th>2</th>\n",
       "      <td>LassoLars</td>\n",
       "      <td>310511.337222</td>\n",
       "      <td>304375.596423</td>\n",
       "    </tr>\n",
       "  </tbody>\n",
       "</table>\n",
       "</div>"
      ],
      "text/plain": [
       "            model     RMSE_train  RMSE_validate\n",
       "0   baseline_mean  389831.755763  382873.659124\n",
       "1  ols_regression  310510.727308  304374.085637\n",
       "2       LassoLars  310511.337222  304375.596423"
      ]
     },
     "execution_count": 21,
     "metadata": {},
     "output_type": "execute_result"
    }
   ],
   "source": [
    "#Creating an empty list for the error calculations:\n",
    "error = []\n",
    "\n",
    "# Creating the Model Object:\n",
    "lars = LassoLars(alpha=1)\n",
    "\n",
    "# Fitting the model object to the training set:\n",
    "lars.fit(X_train, y_train.tax_value)\n",
    "\n",
    "# Using the LassoLars model to make predictions on the training set:\n",
    "y_train['lasso_pred'] = lars.predict(X_train)\n",
    "\n",
    "# Calculating the RMSE for the training set:\n",
    "rmse_train = mean_squared_error(y_train.tax_value, y_train.lasso_pred) ** (0.5)\n",
    "\n",
    "# Using the LassoLars model to make predictions on the validate set:\n",
    "y_validate['lasso_pred'] = lars.predict(X_validate)\n",
    "\n",
    "# Calculating the RMSE for the validate set:\n",
    "rmse_validate = mean_squared_error(y_validate.tax_value, y_validate.lasso_pred) ** (0.5)\n",
    "\n",
    "#Creating a dictionary of LassoLars stats:\n",
    "lasso_lars = {\n",
    "    'model':'LassoLars',\n",
    "    'RMSE_train': mean_squared_error(y_train['tax_value'], y_train['lasso_pred'])**(0.5),\n",
    "    'RMSE_validate': mean_squared_error(y_validate['tax_value'], y_validate['lasso_pred'])**(0.5)\n",
    "}\n",
    "\n",
    "\n",
    "#Adding the lasso_lars stats to the empty list:\n",
    "error.append(lasso_lars)\n",
    "#Converting the list to a DataFrame:\n",
    "error = pd.DataFrame(error)\n",
    "\n",
    "#Concatenating the RMSE DataFrames, ignoring index so it auto-updates in the final DataFrame:\n",
    "results = pd.concat([results, error], ignore_index = True)\n",
    "results"
   ]
  },
  {
   "cell_type": "markdown",
   "id": "9f9935b1",
   "metadata": {},
   "source": [
    "## Polynomial Regression\n",
    "\n",
    "### Features"
   ]
  },
  {
   "cell_type": "code",
   "execution_count": 22,
   "id": "092c60dd",
   "metadata": {},
   "outputs": [],
   "source": [
    "# make the polynomial features to get a new set of features\n",
    "pf = PolynomialFeatures(degree = 4)\n",
    "\n",
    "# fit and transform X_train_scaled\n",
    "X_train4 = pf.fit_transform(X_train)\n",
    "\n",
    "# transform X_validate_scaled & X_test_scaled\n",
    "X_validate4 = pf.transform(X_validate)\n",
    "X_test4 = pf.transform(X_test)"
   ]
  },
  {
   "cell_type": "code",
   "execution_count": 23,
   "id": "cd74940d",
   "metadata": {},
   "outputs": [
    {
     "data": {
      "text/html": [
       "<div>\n",
       "<style scoped>\n",
       "    .dataframe tbody tr th:only-of-type {\n",
       "        vertical-align: middle;\n",
       "    }\n",
       "\n",
       "    .dataframe tbody tr th {\n",
       "        vertical-align: top;\n",
       "    }\n",
       "\n",
       "    .dataframe thead th {\n",
       "        text-align: right;\n",
       "    }\n",
       "</style>\n",
       "<table border=\"1\" class=\"dataframe\">\n",
       "  <thead>\n",
       "    <tr style=\"text-align: right;\">\n",
       "      <th></th>\n",
       "      <th>model</th>\n",
       "      <th>RMSE_train</th>\n",
       "      <th>RMSE_validate</th>\n",
       "    </tr>\n",
       "  </thead>\n",
       "  <tbody>\n",
       "    <tr>\n",
       "      <th>0</th>\n",
       "      <td>baseline_mean</td>\n",
       "      <td>389831.755763</td>\n",
       "      <td>382873.659124</td>\n",
       "    </tr>\n",
       "    <tr>\n",
       "      <th>1</th>\n",
       "      <td>ols_regression</td>\n",
       "      <td>310510.727308</td>\n",
       "      <td>304374.085637</td>\n",
       "    </tr>\n",
       "    <tr>\n",
       "      <th>2</th>\n",
       "      <td>LassoLars</td>\n",
       "      <td>310511.337222</td>\n",
       "      <td>304375.596423</td>\n",
       "    </tr>\n",
       "    <tr>\n",
       "      <th>3</th>\n",
       "      <td>poly_regressor</td>\n",
       "      <td>298114.181354</td>\n",
       "      <td>296797.160662</td>\n",
       "    </tr>\n",
       "  </tbody>\n",
       "</table>\n",
       "</div>"
      ],
      "text/plain": [
       "            model     RMSE_train  RMSE_validate\n",
       "0   baseline_mean  389831.755763  382873.659124\n",
       "1  ols_regression  310510.727308  304374.085637\n",
       "2       LassoLars  310511.337222  304375.596423\n",
       "3  poly_regressor  298114.181354  296797.160662"
      ]
     },
     "execution_count": 23,
     "metadata": {},
     "output_type": "execute_result"
    }
   ],
   "source": [
    "#Creating an empty list for the error calculations:\n",
    "error = []\n",
    "\n",
    "# create the model object\n",
    "lm2 = LinearRegression(normalize=True)\n",
    "\n",
    "# fit the model to our training data. We must specify the column in y_train, \n",
    "# since we have converted it to a dataframe from a series! \n",
    "lm2.fit(X_train4, y_train.tax_value)\n",
    "\n",
    "# predict train\n",
    "y_train['poly_pred'] = lm2.predict(X_train4)\n",
    "\n",
    "# evaluate: rmse\n",
    "rmse_train = mean_squared_error(y_train.tax_value, y_train.poly_pred) ** 0.5\n",
    "\n",
    "# predict validate\n",
    "y_validate['poly_pred'] = lm2.predict(X_validate4)\n",
    "\n",
    "# evaluate: rmse\n",
    "rmse_validate = mean_squared_error(y_validate.tax_value, y_validate.poly_pred) ** 0.5\n",
    "\n",
    "#Creating a dictionary of polynomial stats:\n",
    "polynomial_regressor = {\n",
    "    'model':'poly_regressor',\n",
    "    'RMSE_train': mean_squared_error(y_train['tax_value'], y_train['poly_pred']) ** (0.5),\n",
    "    'RMSE_validate': mean_squared_error(y_validate['tax_value'], y_validate['poly_pred']) ** (0.5)\n",
    "}\n",
    "\n",
    "#Adding the tweedie_regressor stats to the empty list:\n",
    "error.append(polynomial_regressor)\n",
    "#Converting the list to a DataFrame:\n",
    "error = pd.DataFrame(error)\n",
    "\n",
    "#Concatenating the RMSE DataFrames, ignoring index so it auto-updates in the final DataFrame:\n",
    "results = pd.concat([results, error], ignore_index = True)\n",
    "results"
   ]
  },
  {
   "cell_type": "code",
   "execution_count": 24,
   "id": "e7508823",
   "metadata": {},
   "outputs": [],
   "source": [
    "poly_performance = (results.RMSE_validate[0] - results.RMSE_validate[3]) / results.RMSE_validate[0]"
   ]
  },
  {
   "cell_type": "code",
   "execution_count": 25,
   "id": "e20d9d72",
   "metadata": {},
   "outputs": [
    {
     "data": {
      "text/plain": [
       "0.22481697659553532"
      ]
     },
     "execution_count": 25,
     "metadata": {},
     "output_type": "execute_result"
    }
   ],
   "source": [
    "poly_performance"
   ]
  },
  {
   "cell_type": "markdown",
   "id": "3872ee89",
   "metadata": {},
   "source": [
    "# Polynomial Model: Test"
   ]
  },
  {
   "cell_type": "code",
   "execution_count": 26,
   "id": "b2e961c9",
   "metadata": {},
   "outputs": [
    {
     "data": {
      "text/html": [
       "<div>\n",
       "<style scoped>\n",
       "    .dataframe tbody tr th:only-of-type {\n",
       "        vertical-align: middle;\n",
       "    }\n",
       "\n",
       "    .dataframe tbody tr th {\n",
       "        vertical-align: top;\n",
       "    }\n",
       "\n",
       "    .dataframe thead th {\n",
       "        text-align: right;\n",
       "    }\n",
       "</style>\n",
       "<table border=\"1\" class=\"dataframe\">\n",
       "  <thead>\n",
       "    <tr style=\"text-align: right;\">\n",
       "      <th></th>\n",
       "      <th>model</th>\n",
       "      <th>RMSE_train</th>\n",
       "      <th>RMSE_validate</th>\n",
       "      <th>RMSE_test</th>\n",
       "    </tr>\n",
       "  </thead>\n",
       "  <tbody>\n",
       "    <tr>\n",
       "      <th>0</th>\n",
       "      <td>baseline_mean</td>\n",
       "      <td>389831.755763</td>\n",
       "      <td>382873.659124</td>\n",
       "      <td>NaN</td>\n",
       "    </tr>\n",
       "    <tr>\n",
       "      <th>1</th>\n",
       "      <td>ols_regression</td>\n",
       "      <td>310510.727308</td>\n",
       "      <td>304374.085637</td>\n",
       "      <td>NaN</td>\n",
       "    </tr>\n",
       "    <tr>\n",
       "      <th>2</th>\n",
       "      <td>LassoLars</td>\n",
       "      <td>310511.337222</td>\n",
       "      <td>304375.596423</td>\n",
       "      <td>NaN</td>\n",
       "    </tr>\n",
       "    <tr>\n",
       "      <th>3</th>\n",
       "      <td>poly_regressor</td>\n",
       "      <td>298114.181354</td>\n",
       "      <td>296797.160662</td>\n",
       "      <td>NaN</td>\n",
       "    </tr>\n",
       "    <tr>\n",
       "      <th>4</th>\n",
       "      <td>poly_regressor</td>\n",
       "      <td>298114.181354</td>\n",
       "      <td>NaN</td>\n",
       "      <td>304171.807861</td>\n",
       "    </tr>\n",
       "  </tbody>\n",
       "</table>\n",
       "</div>"
      ],
      "text/plain": [
       "            model     RMSE_train  RMSE_validate      RMSE_test\n",
       "0   baseline_mean  389831.755763  382873.659124            NaN\n",
       "1  ols_regression  310510.727308  304374.085637            NaN\n",
       "2       LassoLars  310511.337222  304375.596423            NaN\n",
       "3  poly_regressor  298114.181354  296797.160662            NaN\n",
       "4  poly_regressor  298114.181354            NaN  304171.807861"
      ]
     },
     "execution_count": 26,
     "metadata": {},
     "output_type": "execute_result"
    }
   ],
   "source": [
    "#Creating an empty list for the error calculations:\n",
    "error = []\n",
    "\n",
    "# create the model object\n",
    "lm2 = LinearRegression(normalize=True)\n",
    "\n",
    "# fit the model to our training data. We must specify the column in y_train, \n",
    "# since we have converted it to a dataframe from a series! \n",
    "lm2.fit(X_train4, y_train.tax_value)\n",
    "\n",
    "# predict train\n",
    "y_train['poly_pred'] = lm2.predict(X_train4)\n",
    "\n",
    "# evaluate: rmse\n",
    "rmse_train = mean_squared_error(y_train.tax_value, y_train.poly_pred) ** 0.5\n",
    "\n",
    "# predict test\n",
    "y_test['poly_pred'] = lm2.predict(X_test4)\n",
    "\n",
    "# evaluate: rmse\n",
    "rmse_validate = mean_squared_error(y_test.tax_value, y_test.poly_pred) ** 0.5\n",
    "\n",
    "#Creating a dictionary of polynomial stats:\n",
    "polynomial_regressor = {\n",
    "    'model':'poly_regressor',\n",
    "    'RMSE_train': mean_squared_error(y_train['tax_value'], y_train['poly_pred']) ** (0.5),\n",
    "    'RMSE_test': mean_squared_error(y_test['tax_value'], y_test['poly_pred']) ** (0.5)\n",
    "}\n",
    "\n",
    "#Adding the tweedie_regressor stats to the empty list:\n",
    "error.append(polynomial_regressor)\n",
    "#Converting the list to a DataFrame:\n",
    "error = pd.DataFrame(error)\n",
    "\n",
    "#Concatenating the RMSE DataFrames, ignoring index so it auto-updates in the final DataFrame:\n",
    "results = pd.concat([results, error], ignore_index = True)\n",
    "results"
   ]
  },
  {
   "cell_type": "code",
   "execution_count": 27,
   "id": "2428b9da",
   "metadata": {},
   "outputs": [
    {
     "name": "stdout",
     "output_type": "stream",
     "text": [
      "The model beats the baseline by 20.56%.\n"
     ]
    }
   ],
   "source": [
    "test_performance = (results.RMSE_validate[0] - results.RMSE_test[4]) / results.RMSE_validate[0]\n",
    "print(f\"The model beats the baseline by {round((test_performance * 100),2)}%.\")"
   ]
  },
  {
   "cell_type": "markdown",
   "id": "832e8fe9",
   "metadata": {},
   "source": [
    "# Conclusion:\n",
    "\n",
    "## Take aways:\n",
    "\n",
    "- The Polynomial Regressor model beat the Baseline by **20.56%**\n",
    "- Square footage, number of beds and baths, and year built were all significant predictors of home value, with lot size to a lesser extent\n",
    "\n",
    "## Recomendations:\n",
    "\n",
    "- As the model was 20% better, I would recommend immediate implementation, while still continuing to gather more data for better modeling.\n",
    "\n",
    "## What's Next?\n",
    "\n",
    "- **Collect more data:** We can refine our modeling by looking at other important factors such as general location (urban, suburban, rural), distance from schools and city centers, crime statistics, and more.\n",
    "\n",
    "- **Deeper analysis:** With more time I would be able to test and visualize more relational variables, aand through that improvement on feature selection and engineerig"
   ]
  }
 ],
 "metadata": {
  "kernelspec": {
   "display_name": "Python 3 (ipykernel)",
   "language": "python",
   "name": "python3"
  },
  "language_info": {
   "codemirror_mode": {
    "name": "ipython",
    "version": 3
   },
   "file_extension": ".py",
   "mimetype": "text/x-python",
   "name": "python",
   "nbconvert_exporter": "python",
   "pygments_lexer": "ipython3",
   "version": "3.9.12"
  }
 },
 "nbformat": 4,
 "nbformat_minor": 5
}
