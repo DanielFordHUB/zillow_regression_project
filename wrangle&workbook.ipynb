{
 "cells": [
  {
   "cell_type": "markdown",
   "id": "87580c02",
   "metadata": {},
   "source": [
    "# Wrangle data"
   ]
  },
  {
   "cell_type": "code",
   "execution_count": 1,
   "id": "06dcb7ae",
   "metadata": {},
   "outputs": [],
   "source": [
    "import pandas as pd\n",
    "import numpy as np\n",
    "from scipy import stats\n",
    "from scipy.stats import chi2\n",
    "from math import sqrt\n",
    "import os\n",
    "from env import host, user, password, get_db_url\n",
    "from sklearn.model_selection import train_test_split\n",
    "import sklearn.preprocessing\n",
    "import seaborn as sns\n",
    "from matplotlib import pyplot as plt\n",
    "from sklearn.metrics import confusion_matrix\n",
    "from sklearn.metrics import accuracy_score\n",
    "from sklearn.metrics import mean_squared_error\n",
    "from sklearn.linear_model import LinearRegression, LassoLars, TweedieRegressor\n",
    "from sklearn.preprocessing import PolynomialFeatures, MinMaxScaler\n",
    "from sklearn.metrics import mean_squared_error, r2_score, explained_variance_score\n",
    "import wrangle\n",
    "import explore\n",
    "import warnings\n",
    "warnings.filterwarnings(\"ignore\")\n",
    "\n",
    "alpha = 0.5"
   ]
  },
  {
   "cell_type": "markdown",
   "id": "44909855",
   "metadata": {},
   "source": [
    "## Acquire"
   ]
  },
  {
   "cell_type": "code",
   "execution_count": null,
   "id": "9fea4b30",
   "metadata": {},
   "outputs": [],
   "source": [
    "def get_zillow_data():\n",
    "    \"\"\"Seeks to read the cached zillow.csv first \"\"\"\n",
    "    filename = \"zillow.csv\"\n",
    "\n",
    "    if os.path.isfile(filename):\n",
    "        return pd.read_csv(filename)\n",
    "    else:\n",
    "        return get_new_zillow_data()\n",
    "\n",
    "\n",
    "\n",
    "def get_new_zillow_data():\n",
    "    '''this function gathers selected data from the ZILLOW SQL DF\n",
    "    and uses the get_db_url function to connect to said dataframe'''\n",
    "    sql = '''\n",
    "    SELECT \n",
    "        bedroomcnt AS bedrooms, \n",
    "        bathroomcnt AS bathrooms,\n",
    "        calculatedfinishedsquarefeet AS sq_ft,\n",
    "        taxvaluedollarcnt AS tax_value,\n",
    "        yearbuilt AS year_built,\n",
    "        taxamount AS tax_amnt,\n",
    "        lotsizesquarefeet AS lot_size,\n",
    "        fips\n",
    "    FROM\n",
    "        properties_2017\n",
    "       JOIN propertylandusetype using (propertylandusetypeid)\n",
    "       JOIN predictions_2017 USING(parcelid)\n",
    "    WHERE propertylandusedesc in (\"Single Family Residential\", \n",
    "                                  \"Inferred Single Family Residential\")\n",
    "       AND transactiondate LIKE \"2017%%\";          \n",
    "    '''\n",
    "    return pd.read_sql(sql, get_db_url('zillow'))"
   ]
  },
  {
   "cell_type": "code",
   "execution_count": null,
   "id": "010f74ba",
   "metadata": {},
   "outputs": [],
   "source": [
    "df = wrangle.get_zillow_data()\n",
    "df.head()"
   ]
  },
  {
   "cell_type": "code",
   "execution_count": 2,
   "id": "6edb685e",
   "metadata": {},
   "outputs": [
    {
     "data": {
      "text/html": [
       "<div>\n",
       "<style scoped>\n",
       "    .dataframe tbody tr th:only-of-type {\n",
       "        vertical-align: middle;\n",
       "    }\n",
       "\n",
       "    .dataframe tbody tr th {\n",
       "        vertical-align: top;\n",
       "    }\n",
       "\n",
       "    .dataframe thead th {\n",
       "        text-align: right;\n",
       "    }\n",
       "</style>\n",
       "<table border=\"1\" class=\"dataframe\">\n",
       "  <thead>\n",
       "    <tr style=\"text-align: right;\">\n",
       "      <th></th>\n",
       "      <th>bedrooms</th>\n",
       "      <th>bathrooms</th>\n",
       "      <th>sq_ft</th>\n",
       "      <th>tax_value</th>\n",
       "      <th>year_built</th>\n",
       "      <th>lot_size</th>\n",
       "      <th>LA</th>\n",
       "      <th>orange</th>\n",
       "      <th>ventura</th>\n",
       "    </tr>\n",
       "  </thead>\n",
       "  <tbody>\n",
       "    <tr>\n",
       "      <th>0</th>\n",
       "      <td>4</td>\n",
       "      <td>3.5</td>\n",
       "      <td>3100</td>\n",
       "      <td>1023282</td>\n",
       "      <td>1998</td>\n",
       "      <td>4506</td>\n",
       "      <td>0</td>\n",
       "      <td>1</td>\n",
       "      <td>0</td>\n",
       "    </tr>\n",
       "    <tr>\n",
       "      <th>1</th>\n",
       "      <td>2</td>\n",
       "      <td>1.0</td>\n",
       "      <td>1465</td>\n",
       "      <td>464000</td>\n",
       "      <td>1967</td>\n",
       "      <td>12647</td>\n",
       "      <td>0</td>\n",
       "      <td>0</td>\n",
       "      <td>1</td>\n",
       "    </tr>\n",
       "    <tr>\n",
       "      <th>2</th>\n",
       "      <td>3</td>\n",
       "      <td>2.0</td>\n",
       "      <td>1243</td>\n",
       "      <td>564778</td>\n",
       "      <td>1962</td>\n",
       "      <td>8432</td>\n",
       "      <td>0</td>\n",
       "      <td>1</td>\n",
       "      <td>0</td>\n",
       "    </tr>\n",
       "    <tr>\n",
       "      <th>3</th>\n",
       "      <td>4</td>\n",
       "      <td>3.0</td>\n",
       "      <td>2376</td>\n",
       "      <td>145143</td>\n",
       "      <td>1970</td>\n",
       "      <td>13038</td>\n",
       "      <td>1</td>\n",
       "      <td>0</td>\n",
       "      <td>0</td>\n",
       "    </tr>\n",
       "    <tr>\n",
       "      <th>4</th>\n",
       "      <td>4</td>\n",
       "      <td>3.0</td>\n",
       "      <td>2962</td>\n",
       "      <td>773303</td>\n",
       "      <td>1950</td>\n",
       "      <td>63000</td>\n",
       "      <td>1</td>\n",
       "      <td>0</td>\n",
       "      <td>0</td>\n",
       "    </tr>\n",
       "  </tbody>\n",
       "</table>\n",
       "</div>"
      ],
      "text/plain": [
       "   bedrooms  bathrooms  sq_ft  tax_value  year_built  lot_size  LA  orange  \\\n",
       "0         4        3.5   3100    1023282        1998      4506   0       1   \n",
       "1         2        1.0   1465     464000        1967     12647   0       0   \n",
       "2         3        2.0   1243     564778        1962      8432   0       1   \n",
       "3         4        3.0   2376     145143        1970     13038   1       0   \n",
       "4         4        3.0   2962     773303        1950     63000   1       0   \n",
       "\n",
       "   ventura  \n",
       "0        0  \n",
       "1        1  \n",
       "2        0  \n",
       "3        0  \n",
       "4        0  "
      ]
     },
     "execution_count": 2,
     "metadata": {},
     "output_type": "execute_result"
    }
   ],
   "source": [
    "df = wrangle.get_zillow_data()\n",
    "df.head()"
   ]
  },
  {
   "cell_type": "markdown",
   "id": "02f0ad85",
   "metadata": {},
   "source": [
    "## Prepare"
   ]
  },
  {
   "cell_type": "code",
   "execution_count": null,
   "id": "3dae1861",
   "metadata": {},
   "outputs": [],
   "source": [
    "df.info()"
   ]
  },
  {
   "cell_type": "code",
   "execution_count": null,
   "id": "9b5284a8",
   "metadata": {},
   "outputs": [],
   "source": [
    "df.describe()"
   ]
  },
  {
   "cell_type": "code",
   "execution_count": null,
   "id": "093abe6b",
   "metadata": {},
   "outputs": [],
   "source": [
    "df.isnull().sum()"
   ]
  },
  {
   "cell_type": "code",
   "execution_count": null,
   "id": "14519f65",
   "metadata": {},
   "outputs": [],
   "source": [
    "df.isnull().sum().sum() #/ len(df)"
   ]
  },
  {
   "cell_type": "markdown",
   "id": "b6ea11aa",
   "metadata": {},
   "source": [
    "we will drop nulls as they are a about 1% of the total data and should not have an impacting effect on exploration or modeling"
   ]
  },
  {
   "cell_type": "code",
   "execution_count": null,
   "id": "1240a38b",
   "metadata": {},
   "outputs": [],
   "source": [
    "df = df.dropna()"
   ]
  },
  {
   "cell_type": "code",
   "execution_count": null,
   "id": "77e831c2",
   "metadata": {},
   "outputs": [],
   "source": [
    "df.duplicated().sum()\n",
    "#minimal amount of duplicates so we will drop those too"
   ]
  },
  {
   "cell_type": "code",
   "execution_count": null,
   "id": "f10c8c27",
   "metadata": {},
   "outputs": [],
   "source": [
    "df = df.drop_duplicates()"
   ]
  },
  {
   "cell_type": "code",
   "execution_count": null,
   "id": "4976b161",
   "metadata": {},
   "outputs": [],
   "source": [
    "df.shape"
   ]
  },
  {
   "cell_type": "code",
   "execution_count": null,
   "id": "3ae78fa7",
   "metadata": {},
   "outputs": [],
   "source": [
    "51835 / 52441"
   ]
  },
  {
   "cell_type": "code",
   "execution_count": null,
   "id": "31f9892e",
   "metadata": {},
   "outputs": [],
   "source": [
    "1-0.9884441562899258"
   ]
  },
  {
   "cell_type": "markdown",
   "id": "f0eee806",
   "metadata": {},
   "source": [
    "We still have over 98% of our data after drops"
   ]
  },
  {
   "cell_type": "code",
   "execution_count": null,
   "id": "461e8520",
   "metadata": {
    "scrolled": true
   },
   "outputs": [],
   "source": [
    "df.fips.unique()"
   ]
  },
  {
   "cell_type": "code",
   "execution_count": null,
   "id": "a424d752",
   "metadata": {},
   "outputs": [],
   "source": [
    "list(df.columns)"
   ]
  },
  {
   "cell_type": "code",
   "execution_count": null,
   "id": "822c1f33",
   "metadata": {},
   "outputs": [],
   "source": [
    "def mahalanobis(x=None, data=None, cov=None):\n",
    "\n",
    "    x_mu = x - np.mean(data)\n",
    "    if not cov:\n",
    "        cov = np.cov(data.values.T)\n",
    "    inv_covmat = np.linalg.inv(cov)\n",
    "    left = np.dot(x_mu, inv_covmat)\n",
    "    mahal = np.dot(left, x_mu.T)\n",
    "    return mahal.diagonal()\n",
    "\n"
   ]
  },
  {
   "cell_type": "code",
   "execution_count": null,
   "id": "89e671c9",
   "metadata": {},
   "outputs": [],
   "source": [
    "#create new column in dataframe that contains Mahalanobis distance for each row\n",
    "df['mahalanobis'] = mahalanobis(x=df, data=df[['bedrooms',\n",
    " 'bathrooms',\n",
    " 'sq_ft',\n",
    " 'tax_value',\n",
    " 'year_built',\n",
    " 'tax_amnt',\n",
    " 'lot_size',\n",
    " 'fips']])\n",
    "\n"
   ]
  },
  {
   "cell_type": "code",
   "execution_count": null,
   "id": "3d06bb7c",
   "metadata": {},
   "outputs": [],
   "source": []
  },
  {
   "cell_type": "code",
   "execution_count": null,
   "id": "3baad174",
   "metadata": {
    "scrolled": true
   },
   "outputs": [],
   "source": [
    "#display first five rows of dataframe\n",
    "df.head()"
   ]
  },
  {
   "cell_type": "code",
   "execution_count": null,
   "id": "91d8c65f",
   "metadata": {},
   "outputs": [],
   "source": [
    "#calculate p-value for each mahalanobis distance \n",
    "df['p'] = 1 - chi2.cdf(df['mahalanobis'], 3)"
   ]
  },
  {
   "cell_type": "code",
   "execution_count": null,
   "id": "5077751e",
   "metadata": {},
   "outputs": [],
   "source": []
  },
  {
   "cell_type": "code",
   "execution_count": null,
   "id": "5c0f1a08",
   "metadata": {},
   "outputs": [],
   "source": [
    "df.head()"
   ]
  },
  {
   "cell_type": "code",
   "execution_count": null,
   "id": "177c1a1f",
   "metadata": {},
   "outputs": [],
   "source": [
    "df.shape"
   ]
  },
  {
   "cell_type": "code",
   "execution_count": null,
   "id": "af53d397",
   "metadata": {},
   "outputs": [],
   "source": [
    "df[df.p > 0.001].shape"
   ]
  },
  {
   "cell_type": "code",
   "execution_count": null,
   "id": "673396a0",
   "metadata": {},
   "outputs": [],
   "source": [
    "df.shape"
   ]
  },
  {
   "cell_type": "code",
   "execution_count": null,
   "id": "55c25872",
   "metadata": {},
   "outputs": [],
   "source": [
    "def remove_outliers(df):\n",
    "    #create new column in dataframe that contains Mahalanobis distance for each row\n",
    "    df['mahalanobis'] = mahalanobis(x=df, data=df[['bedrooms',\n",
    " 'bathrooms',\n",
    " 'sq_ft',\n",
    " 'tax_value',\n",
    " 'year_built',\n",
    " 'tax_amnt',\n",
    " 'lot_size',\n",
    " 'fips']])\n",
    "    \n",
    "    #calculate p-value for each mahalanobis distance \n",
    "    df['p'] = 1 - chi2.cdf(df['mahalanobis'], 3)\n",
    "    \n",
    "    # drop rowss with p-value of less than 0.001\n",
    "    df = df[df.p > 0.001]\n",
    "    \n",
    "    # drop calculative columns\n",
    "    df = df.drop(['mahalanobis', 'p'], axis = 1)\n",
    "    \n",
    "    return df"
   ]
  },
  {
   "cell_type": "code",
   "execution_count": null,
   "id": "4e69d393",
   "metadata": {},
   "outputs": [],
   "source": [
    "df = remove_outliers(df)\n",
    "df.shape"
   ]
  },
  {
   "cell_type": "code",
   "execution_count": null,
   "id": "93408136",
   "metadata": {},
   "outputs": [],
   "source": [
    "df.head()"
   ]
  },
  {
   "cell_type": "code",
   "execution_count": null,
   "id": "99c3235e",
   "metadata": {},
   "outputs": [],
   "source": [
    "df.drop(['mahalanobis', 'p'], axis = 1)"
   ]
  },
  {
   "cell_type": "code",
   "execution_count": null,
   "id": "83a807d5",
   "metadata": {
    "scrolled": false
   },
   "outputs": [],
   "source": [
    "df = wrangle.wrangle_zillow()\n"
   ]
  },
  {
   "cell_type": "code",
   "execution_count": null,
   "id": "2c68a684",
   "metadata": {
    "scrolled": true
   },
   "outputs": [],
   "source": [
    "df.head()"
   ]
  },
  {
   "cell_type": "code",
   "execution_count": null,
   "id": "a474bc8f",
   "metadata": {},
   "outputs": [],
   "source": [
    "df.info()"
   ]
  },
  {
   "cell_type": "code",
   "execution_count": null,
   "id": "eb66814e",
   "metadata": {},
   "outputs": [],
   "source": [
    "# changing fips codes to strings\n",
    "df['fips'] = df.fips.apply(lambda fips: '0' + str(int(fips)))"
   ]
  },
  {
   "cell_type": "code",
   "execution_count": null,
   "id": "f2dae23d",
   "metadata": {},
   "outputs": [],
   "source": [
    "df.info()"
   ]
  },
  {
   "cell_type": "code",
   "execution_count": null,
   "id": "a52bbed7",
   "metadata": {},
   "outputs": [],
   "source": []
  },
  {
   "cell_type": "markdown",
   "id": "4b031442",
   "metadata": {},
   "source": [
    "## Split"
   ]
  },
  {
   "cell_type": "code",
   "execution_count": 3,
   "id": "192d5471",
   "metadata": {},
   "outputs": [],
   "source": [
    "def train_test_validate_split(df, test_size=.2, validate_size=.3, random_state=99):\n",
    "    '''\n",
    "    This function takes in a dataframe, then splits that dataframe into three separate samples\n",
    "    called train, test, and validate, for use in machine learning modeling.\n",
    "    Three dataframes are returned in the following order: train, test, validate. \n",
    "    \n",
    "    The function also prints the size of each sample.\n",
    "    '''\n",
    "    train, test = train_test_split(df, test_size=.2, random_state=99)\n",
    "    train, validate = train_test_split(train, test_size=.3, random_state=99)\n",
    "    \n",
    "    print(f'train\\t n = {train.shape[0]}')\n",
    "    print(f'test\\t n = {test.shape[0]}')\n",
    "    print(f'validate n = {validate.shape[0]}')\n",
    "    \n",
    "    return train, test, validate"
   ]
  },
  {
   "cell_type": "code",
   "execution_count": 4,
   "id": "6d692581",
   "metadata": {},
   "outputs": [
    {
     "name": "stdout",
     "output_type": "stream",
     "text": [
      "train\t n = 27767\n",
      "test\t n = 9918\n",
      "validate n = 11901\n"
     ]
    }
   ],
   "source": [
    "train, test, validate = train_test_validate_split(df, test_size=.2, validate_size=.3, random_state=99)"
   ]
  },
  {
   "cell_type": "markdown",
   "id": "cc19fc6e",
   "metadata": {},
   "source": [
    "# explore"
   ]
  },
  {
   "cell_type": "code",
   "execution_count": null,
   "id": "d592c495",
   "metadata": {
    "scrolled": false
   },
   "outputs": [],
   "source": [
    "explore.plot_variable_pairs(train)"
   ]
  },
  {
   "cell_type": "code",
   "execution_count": null,
   "id": "92af8468",
   "metadata": {
    "scrolled": false
   },
   "outputs": [],
   "source": [
    "explore.plot_categorical_and_continuous_vars(train)"
   ]
  },
  {
   "cell_type": "code",
   "execution_count": null,
   "id": "3080b66b",
   "metadata": {},
   "outputs": [],
   "source": [
    "def correlation_test(data_for_category_1, data_for_category_2, alpha=.05):\n",
    "    '''\n",
    "    This function takes in data for two variables and performs a pearsons r statistitical test for correlation. \n",
    "    It outputs to the console values for r and p and compares them to a given alpha value, then outputs to the \n",
    "    console whether or not to reject the null hypothesis based on that comparison. \n",
    "    '''\n",
    "    # display hypotheses\n",
    "    print(f'H0: There is no linear correlation between {data_for_category_1.name} and {data_for_category_2.name}.')\n",
    "    print(f'H1: There is a linear correlation between {data_for_category_1.name} and {data_for_category_2.name}.')\n",
    "    # conduct the stats test and store values for p and r\n",
    "    r, p = stats.pearsonr(data_for_category_1, data_for_category_2)\n",
    "    # display the p and r values\n",
    "    print('\\nr = ', round(r, 2))\n",
    "    print('p = ', round(p, 3))\n",
    "    # compare p to alpha, display whether to reject the null hypothesis\n",
    "    if p < alpha:\n",
    "        print('\\nReject H0')\n",
    "    else:\n",
    "        print('\\nFail to Reject H0')"
   ]
  },
  {
   "cell_type": "code",
   "execution_count": null,
   "id": "63c97e1e",
   "metadata": {},
   "outputs": [],
   "source": [
    "correlation_test(train.year_built, train.tax_value, alpha=.05)"
   ]
  },
  {
   "cell_type": "code",
   "execution_count": null,
   "id": "8c1668ca",
   "metadata": {},
   "outputs": [],
   "source": [
    "correlation_test(train.lot_size, train.tax_value, alpha=.05)"
   ]
  },
  {
   "cell_type": "code",
   "execution_count": null,
   "id": "8c3ab438",
   "metadata": {},
   "outputs": [],
   "source": []
  },
  {
   "cell_type": "code",
   "execution_count": null,
   "id": "8796d8b2",
   "metadata": {},
   "outputs": [],
   "source": []
  },
  {
   "cell_type": "code",
   "execution_count": 51,
   "id": "0e80e5fb",
   "metadata": {},
   "outputs": [],
   "source": [
    "def value_correlations(train):\n",
    "    '''\n",
    "    This functino takes in the zillow train sample and uses pandas and seaborn to create a\n",
    "    ordered list and heatmap of the correlations between the various quantitative feeatures and the target. \n",
    "    '''\n",
    "    # create a dataframe of correlation values, sorted in descending order\n",
    "    corr = pd.DataFrame(train.corr().abs().tax_value).sort_values(by='tax_value', ascending=False)\n",
    "    # rename the correlation column\n",
    "    corr.columns = ['correlation (abs)']\n",
    "    # establish figure size\n",
    "    plt.figure(figsize=(10,10))\n",
    "    # creat the heatmap using the correlation dataframe created above\n",
    "    sns.heatmap(corr, annot=True, cmap=\"mako\")\n",
    "    # establish a plot title\n",
    "    plt.title('Features\\' Correlation with Value')\n",
    "    # display the plot\n",
    "    plt.show()"
   ]
  },
  {
   "cell_type": "code",
   "execution_count": 52,
   "id": "55071058",
   "metadata": {},
   "outputs": [
    {
     "data": {
      "image/png": "[encoded data removed]",
      "text/plain": [
       "<Figure size 720x720 with 2 Axes>"
      ]
     },
     "metadata": {
      "needs_background": "light"
     },
     "output_type": "display_data"
    }
   ],
   "source": [
    "value_correlations(train_scaled)"
   ]
  },
  {
   "cell_type": "code",
   "execution_count": null,
   "id": "30991bb0",
   "metadata": {},
   "outputs": [],
   "source": [
    "train.sort_values(by= 'tax_value', ascending=False)"
   ]
  },
  {
   "cell_type": "code",
   "execution_count": null,
   "id": "b5146971",
   "metadata": {},
   "outputs": [],
   "source": [
    "train.mean()"
   ]
  },
  {
   "cell_type": "markdown",
   "id": "7a520923",
   "metadata": {},
   "source": [
    "## Scale"
   ]
  },
  {
   "cell_type": "code",
   "execution_count": 5,
   "id": "7929aad1",
   "metadata": {},
   "outputs": [
    {
     "data": {
      "text/plain": [
       "(452278.90330248134, 359832.0)"
      ]
     },
     "execution_count": 5,
     "metadata": {},
     "output_type": "execute_result"
    }
   ],
   "source": [
    "train.tax_value.mean(), train.tax_value.median()"
   ]
  },
  {
   "cell_type": "code",
   "execution_count": 6,
   "id": "36496cfb",
   "metadata": {},
   "outputs": [],
   "source": [
    "target = 'tax_value'"
   ]
  },
  {
   "cell_type": "code",
   "execution_count": 53,
   "id": "cf3e2a91",
   "metadata": {},
   "outputs": [],
   "source": [
    "def MM_scale_zillow(train, validate, test):\n",
    "    '''\n",
    "    This takes in the train, validate, and test dataframes, as well as the target label. \n",
    "    It then fits a scaler object to the train sample based on the given sample_type, applies that\n",
    "    scaler to the train, validate, and test samples, and appends the new scaled data to the \n",
    "    dataframes as additional columns with the prefix 'scaled_'. \n",
    "    train, validate, and test dataframes are returned, in that order. \n",
    "    '''\n",
    "    target = 'taxvalue'\n",
    "    \n",
    "    # identify quantitative features to scale\n",
    "    quant_features = [col for col in train.columns if (train[col].dtype != 'object') & (col != target)]\n",
    "    \n",
    "    # establish empty dataframes for storing scaled dataset\n",
    "    train_scaled = train.copy()\n",
    "    validate_scaled = validate.copy()\n",
    "    test_scaled = test.copy()\n",
    "    \n",
    "    # create and fit the scaler\n",
    "    scaler = MinMaxScaler().fit(train[quant_features])\n",
    "    \n",
    "    # adding scaled features to scaled dataframes\n",
    "    train_scaled[quant_features] = scaler.transform(train[quant_features])\n",
    "    validate_scaled[quant_features] = scaler.transform(validate[quant_features])\n",
    "    test_scaled[quant_features] = scaler.transform(test[quant_features])\n",
    "   \n",
    "\n",
    "    return train_scaled, validate_scaled, test_scaled"
   ]
  },
  {
   "cell_type": "code",
   "execution_count": 55,
   "id": "17bd66ff",
   "metadata": {
    "scrolled": true
   },
   "outputs": [],
   "source": [
    "train_scaled, validate_scaled, test_scaled = MM_scale_zillow(train, validate, test)"
   ]
  },
  {
   "cell_type": "code",
   "execution_count": 9,
   "id": "5dcdb882",
   "metadata": {},
   "outputs": [
    {
     "data": {
      "text/html": [
       "<div>\n",
       "<style scoped>\n",
       "    .dataframe tbody tr th:only-of-type {\n",
       "        vertical-align: middle;\n",
       "    }\n",
       "\n",
       "    .dataframe tbody tr th {\n",
       "        vertical-align: top;\n",
       "    }\n",
       "\n",
       "    .dataframe thead th {\n",
       "        text-align: right;\n",
       "    }\n",
       "</style>\n",
       "<table border=\"1\" class=\"dataframe\">\n",
       "  <thead>\n",
       "    <tr style=\"text-align: right;\">\n",
       "      <th></th>\n",
       "      <th>bedrooms</th>\n",
       "      <th>bathrooms</th>\n",
       "      <th>sq_ft</th>\n",
       "      <th>tax_value</th>\n",
       "      <th>year_built</th>\n",
       "      <th>lot_size</th>\n",
       "      <th>LA</th>\n",
       "      <th>orange</th>\n",
       "      <th>ventura</th>\n",
       "    </tr>\n",
       "  </thead>\n",
       "  <tbody>\n",
       "    <tr>\n",
       "      <th>47983</th>\n",
       "      <td>0.500000</td>\n",
       "      <td>0.333333</td>\n",
       "      <td>0.172335</td>\n",
       "      <td>46340</td>\n",
       "      <td>0.549618</td>\n",
       "      <td>0.024584</td>\n",
       "      <td>1.0</td>\n",
       "      <td>0.0</td>\n",
       "      <td>0.0</td>\n",
       "    </tr>\n",
       "    <tr>\n",
       "      <th>41197</th>\n",
       "      <td>0.500000</td>\n",
       "      <td>0.333333</td>\n",
       "      <td>0.268370</td>\n",
       "      <td>482242</td>\n",
       "      <td>0.496183</td>\n",
       "      <td>0.018301</td>\n",
       "      <td>1.0</td>\n",
       "      <td>0.0</td>\n",
       "      <td>0.0</td>\n",
       "    </tr>\n",
       "    <tr>\n",
       "      <th>6789</th>\n",
       "      <td>0.333333</td>\n",
       "      <td>0.166667</td>\n",
       "      <td>0.097269</td>\n",
       "      <td>109035</td>\n",
       "      <td>0.274809</td>\n",
       "      <td>0.014754</td>\n",
       "      <td>1.0</td>\n",
       "      <td>0.0</td>\n",
       "      <td>0.0</td>\n",
       "    </tr>\n",
       "    <tr>\n",
       "      <th>35424</th>\n",
       "      <td>0.666667</td>\n",
       "      <td>0.416667</td>\n",
       "      <td>0.304317</td>\n",
       "      <td>618000</td>\n",
       "      <td>0.870229</td>\n",
       "      <td>0.007476</td>\n",
       "      <td>0.0</td>\n",
       "      <td>1.0</td>\n",
       "      <td>0.0</td>\n",
       "    </tr>\n",
       "    <tr>\n",
       "      <th>44266</th>\n",
       "      <td>0.666667</td>\n",
       "      <td>0.333333</td>\n",
       "      <td>0.282819</td>\n",
       "      <td>661000</td>\n",
       "      <td>0.519084</td>\n",
       "      <td>0.016652</td>\n",
       "      <td>1.0</td>\n",
       "      <td>0.0</td>\n",
       "      <td>0.0</td>\n",
       "    </tr>\n",
       "  </tbody>\n",
       "</table>\n",
       "</div>"
      ],
      "text/plain": [
       "       bedrooms  bathrooms     sq_ft  tax_value  year_built  lot_size   LA  \\\n",
       "47983  0.500000   0.333333  0.172335      46340    0.549618  0.024584  1.0   \n",
       "41197  0.500000   0.333333  0.268370     482242    0.496183  0.018301  1.0   \n",
       "6789   0.333333   0.166667  0.097269     109035    0.274809  0.014754  1.0   \n",
       "35424  0.666667   0.416667  0.304317     618000    0.870229  0.007476  0.0   \n",
       "44266  0.666667   0.333333  0.282819     661000    0.519084  0.016652  1.0   \n",
       "\n",
       "       orange  ventura  \n",
       "47983     0.0      0.0  \n",
       "41197     0.0      0.0  \n",
       "6789      0.0      0.0  \n",
       "35424     1.0      0.0  \n",
       "44266     0.0      0.0  "
      ]
     },
     "execution_count": 9,
     "metadata": {},
     "output_type": "execute_result"
    }
   ],
   "source": [
    "train_scaled.head()"
   ]
  },
  {
   "cell_type": "code",
   "execution_count": 10,
   "id": "df626238",
   "metadata": {},
   "outputs": [],
   "source": [
    "def determine_regression_baseline(train, target):\n",
    "    '''\n",
    "    This function takes in a train sample and a continuous target variable label and \n",
    "    determines whether the mean or median performs better as a baseline prediction. \n",
    "    '''\n",
    "    # create empty dataframe for storing prediction results\n",
    "    results = pd.DataFrame(index=train.index)\n",
    "    # assign actual values for the target variable\n",
    "    results['actual'] = train[target]\n",
    "    # assign a baseline using mean\n",
    "    results['baseline_mean'] = train[target].mean()\n",
    "    # assign a baseline using median\n",
    "    results['baseline_median']= train[target].median()\n",
    "    \n",
    "    # get RMSE values for each potential baseline\n",
    "    RMSE_baseline_mean = sqrt(sklearn.metrics.mean_squared_error(results.actual, results.baseline_mean))\n",
    "    RMSE_baseline_median = sqrt(sklearn.metrics.mean_squared_error(results.actual, results.baseline_median))\n",
    "    \n",
    "    # compare the two RMSE values; drop the lowest performer and assign the highest performer to baseline variable\n",
    "    if RMSE_baseline_median < RMSE_baseline_mean:\n",
    "        results = results.drop(columns='baseline_mean')\n",
    "        results['RMSE_baseline'] = RMSE_baseline_median\n",
    "        baseline = 'median'\n",
    "    else:\n",
    "        results = results.drop(columns='baseline_median')\n",
    "        results['RMSE_baseline'] = RMSE_baseline_mean\n",
    "        baseline = 'mean'\n",
    "    # print the results\n",
    "    print(f'The highest performing baseline is the {baseline} target value.')"
   ]
  },
  {
   "cell_type": "code",
   "execution_count": 41,
   "id": "3e98aa6c",
   "metadata": {},
   "outputs": [
    {
     "name": "stdout",
     "output_type": "stream",
     "text": [
      "The highest performing baseline is the mean target value.\n"
     ]
    }
   ],
   "source": [
    "determine_regression_baseline(train_scaled,target)"
   ]
  },
  {
   "cell_type": "markdown",
   "id": "2b821275",
   "metadata": {},
   "source": [
    "## create x and y sets"
   ]
  },
  {
   "cell_type": "code",
   "execution_count": 19,
   "id": "70fbab06",
   "metadata": {},
   "outputs": [
    {
     "data": {
      "text/html": [
       "<div>\n",
       "<style scoped>\n",
       "    .dataframe tbody tr th:only-of-type {\n",
       "        vertical-align: middle;\n",
       "    }\n",
       "\n",
       "    .dataframe tbody tr th {\n",
       "        vertical-align: top;\n",
       "    }\n",
       "\n",
       "    .dataframe thead th {\n",
       "        text-align: right;\n",
       "    }\n",
       "</style>\n",
       "<table border=\"1\" class=\"dataframe\">\n",
       "  <thead>\n",
       "    <tr style=\"text-align: right;\">\n",
       "      <th></th>\n",
       "      <th>bedrooms</th>\n",
       "      <th>bathrooms</th>\n",
       "      <th>sq_ft</th>\n",
       "      <th>tax_value</th>\n",
       "      <th>year_built</th>\n",
       "      <th>lot_size</th>\n",
       "      <th>LA</th>\n",
       "      <th>orange</th>\n",
       "      <th>ventura</th>\n",
       "    </tr>\n",
       "  </thead>\n",
       "  <tbody>\n",
       "    <tr>\n",
       "      <th>47983</th>\n",
       "      <td>0.500000</td>\n",
       "      <td>0.333333</td>\n",
       "      <td>0.172335</td>\n",
       "      <td>46340</td>\n",
       "      <td>0.549618</td>\n",
       "      <td>0.024584</td>\n",
       "      <td>1.0</td>\n",
       "      <td>0.0</td>\n",
       "      <td>0.0</td>\n",
       "    </tr>\n",
       "    <tr>\n",
       "      <th>41197</th>\n",
       "      <td>0.500000</td>\n",
       "      <td>0.333333</td>\n",
       "      <td>0.268370</td>\n",
       "      <td>482242</td>\n",
       "      <td>0.496183</td>\n",
       "      <td>0.018301</td>\n",
       "      <td>1.0</td>\n",
       "      <td>0.0</td>\n",
       "      <td>0.0</td>\n",
       "    </tr>\n",
       "    <tr>\n",
       "      <th>6789</th>\n",
       "      <td>0.333333</td>\n",
       "      <td>0.166667</td>\n",
       "      <td>0.097269</td>\n",
       "      <td>109035</td>\n",
       "      <td>0.274809</td>\n",
       "      <td>0.014754</td>\n",
       "      <td>1.0</td>\n",
       "      <td>0.0</td>\n",
       "      <td>0.0</td>\n",
       "    </tr>\n",
       "    <tr>\n",
       "      <th>35424</th>\n",
       "      <td>0.666667</td>\n",
       "      <td>0.416667</td>\n",
       "      <td>0.304317</td>\n",
       "      <td>618000</td>\n",
       "      <td>0.870229</td>\n",
       "      <td>0.007476</td>\n",
       "      <td>0.0</td>\n",
       "      <td>1.0</td>\n",
       "      <td>0.0</td>\n",
       "    </tr>\n",
       "    <tr>\n",
       "      <th>44266</th>\n",
       "      <td>0.666667</td>\n",
       "      <td>0.333333</td>\n",
       "      <td>0.282819</td>\n",
       "      <td>661000</td>\n",
       "      <td>0.519084</td>\n",
       "      <td>0.016652</td>\n",
       "      <td>1.0</td>\n",
       "      <td>0.0</td>\n",
       "      <td>0.0</td>\n",
       "    </tr>\n",
       "  </tbody>\n",
       "</table>\n",
       "</div>"
      ],
      "text/plain": [
       "       bedrooms  bathrooms     sq_ft  tax_value  year_built  lot_size   LA  \\\n",
       "47983  0.500000   0.333333  0.172335      46340    0.549618  0.024584  1.0   \n",
       "41197  0.500000   0.333333  0.268370     482242    0.496183  0.018301  1.0   \n",
       "6789   0.333333   0.166667  0.097269     109035    0.274809  0.014754  1.0   \n",
       "35424  0.666667   0.416667  0.304317     618000    0.870229  0.007476  0.0   \n",
       "44266  0.666667   0.333333  0.282819     661000    0.519084  0.016652  1.0   \n",
       "\n",
       "       orange  ventura  \n",
       "47983     0.0      0.0  \n",
       "41197     0.0      0.0  \n",
       "6789      0.0      0.0  \n",
       "35424     1.0      0.0  \n",
       "44266     0.0      0.0  "
      ]
     },
     "execution_count": 19,
     "metadata": {},
     "output_type": "execute_result"
    }
   ],
   "source": [
    "train_scaled.head()"
   ]
  },
  {
   "cell_type": "code",
   "execution_count": 20,
   "id": "a683a05f",
   "metadata": {},
   "outputs": [],
   "source": [
    "X_train = train_scaled.drop(columns=['tax_value'])\n",
    "y_train = train_scaled.drop(columns = X_train)\n",
    "\n",
    "X_validate = validate_scaled.drop(columns=['tax_value'])\n",
    "y_validate = validate_scaled.drop(columns = X_validate)\n",
    "\n",
    "X_test = test_scaled.drop(columns=['tax_value'])\n",
    "y_test = test_scaled.drop(columns = X_test)"
   ]
  },
  {
   "cell_type": "code",
   "execution_count": 21,
   "id": "776d94dc",
   "metadata": {},
   "outputs": [
    {
     "data": {
      "text/html": [
       "<div>\n",
       "<style scoped>\n",
       "    .dataframe tbody tr th:only-of-type {\n",
       "        vertical-align: middle;\n",
       "    }\n",
       "\n",
       "    .dataframe tbody tr th {\n",
       "        vertical-align: top;\n",
       "    }\n",
       "\n",
       "    .dataframe thead th {\n",
       "        text-align: right;\n",
       "    }\n",
       "</style>\n",
       "<table border=\"1\" class=\"dataframe\">\n",
       "  <thead>\n",
       "    <tr style=\"text-align: right;\">\n",
       "      <th></th>\n",
       "      <th>bedrooms</th>\n",
       "      <th>bathrooms</th>\n",
       "      <th>sq_ft</th>\n",
       "      <th>year_built</th>\n",
       "      <th>lot_size</th>\n",
       "      <th>LA</th>\n",
       "      <th>orange</th>\n",
       "      <th>ventura</th>\n",
       "    </tr>\n",
       "  </thead>\n",
       "  <tbody>\n",
       "    <tr>\n",
       "      <th>47983</th>\n",
       "      <td>0.500000</td>\n",
       "      <td>0.333333</td>\n",
       "      <td>0.172335</td>\n",
       "      <td>0.549618</td>\n",
       "      <td>0.024584</td>\n",
       "      <td>1.0</td>\n",
       "      <td>0.0</td>\n",
       "      <td>0.0</td>\n",
       "    </tr>\n",
       "    <tr>\n",
       "      <th>41197</th>\n",
       "      <td>0.500000</td>\n",
       "      <td>0.333333</td>\n",
       "      <td>0.268370</td>\n",
       "      <td>0.496183</td>\n",
       "      <td>0.018301</td>\n",
       "      <td>1.0</td>\n",
       "      <td>0.0</td>\n",
       "      <td>0.0</td>\n",
       "    </tr>\n",
       "    <tr>\n",
       "      <th>6789</th>\n",
       "      <td>0.333333</td>\n",
       "      <td>0.166667</td>\n",
       "      <td>0.097269</td>\n",
       "      <td>0.274809</td>\n",
       "      <td>0.014754</td>\n",
       "      <td>1.0</td>\n",
       "      <td>0.0</td>\n",
       "      <td>0.0</td>\n",
       "    </tr>\n",
       "    <tr>\n",
       "      <th>35424</th>\n",
       "      <td>0.666667</td>\n",
       "      <td>0.416667</td>\n",
       "      <td>0.304317</td>\n",
       "      <td>0.870229</td>\n",
       "      <td>0.007476</td>\n",
       "      <td>0.0</td>\n",
       "      <td>1.0</td>\n",
       "      <td>0.0</td>\n",
       "    </tr>\n",
       "    <tr>\n",
       "      <th>44266</th>\n",
       "      <td>0.666667</td>\n",
       "      <td>0.333333</td>\n",
       "      <td>0.282819</td>\n",
       "      <td>0.519084</td>\n",
       "      <td>0.016652</td>\n",
       "      <td>1.0</td>\n",
       "      <td>0.0</td>\n",
       "      <td>0.0</td>\n",
       "    </tr>\n",
       "  </tbody>\n",
       "</table>\n",
       "</div>"
      ],
      "text/plain": [
       "       bedrooms  bathrooms     sq_ft  year_built  lot_size   LA  orange  \\\n",
       "47983  0.500000   0.333333  0.172335    0.549618  0.024584  1.0     0.0   \n",
       "41197  0.500000   0.333333  0.268370    0.496183  0.018301  1.0     0.0   \n",
       "6789   0.333333   0.166667  0.097269    0.274809  0.014754  1.0     0.0   \n",
       "35424  0.666667   0.416667  0.304317    0.870229  0.007476  0.0     1.0   \n",
       "44266  0.666667   0.333333  0.282819    0.519084  0.016652  1.0     0.0   \n",
       "\n",
       "       ventura  \n",
       "47983      0.0  \n",
       "41197      0.0  \n",
       "6789       0.0  \n",
       "35424      0.0  \n",
       "44266      0.0  "
      ]
     },
     "execution_count": 21,
     "metadata": {},
     "output_type": "execute_result"
    }
   ],
   "source": [
    "X_train.head()"
   ]
  },
  {
   "cell_type": "code",
   "execution_count": 22,
   "id": "824be0c5",
   "metadata": {},
   "outputs": [
    {
     "data": {
      "text/html": [
       "<div>\n",
       "<style scoped>\n",
       "    .dataframe tbody tr th:only-of-type {\n",
       "        vertical-align: middle;\n",
       "    }\n",
       "\n",
       "    .dataframe tbody tr th {\n",
       "        vertical-align: top;\n",
       "    }\n",
       "\n",
       "    .dataframe thead th {\n",
       "        text-align: right;\n",
       "    }\n",
       "</style>\n",
       "<table border=\"1\" class=\"dataframe\">\n",
       "  <thead>\n",
       "    <tr style=\"text-align: right;\">\n",
       "      <th></th>\n",
       "      <th>tax_value</th>\n",
       "    </tr>\n",
       "  </thead>\n",
       "  <tbody>\n",
       "    <tr>\n",
       "      <th>47983</th>\n",
       "      <td>46340</td>\n",
       "    </tr>\n",
       "    <tr>\n",
       "      <th>41197</th>\n",
       "      <td>482242</td>\n",
       "    </tr>\n",
       "    <tr>\n",
       "      <th>6789</th>\n",
       "      <td>109035</td>\n",
       "    </tr>\n",
       "    <tr>\n",
       "      <th>35424</th>\n",
       "      <td>618000</td>\n",
       "    </tr>\n",
       "    <tr>\n",
       "      <th>44266</th>\n",
       "      <td>661000</td>\n",
       "    </tr>\n",
       "  </tbody>\n",
       "</table>\n",
       "</div>"
      ],
      "text/plain": [
       "       tax_value\n",
       "47983      46340\n",
       "41197     482242\n",
       "6789      109035\n",
       "35424     618000\n",
       "44266     661000"
      ]
     },
     "execution_count": 22,
     "metadata": {},
     "output_type": "execute_result"
    }
   ],
   "source": [
    "y_train.head()"
   ]
  },
  {
   "cell_type": "markdown",
   "id": "bf90eea5",
   "metadata": {},
   "source": [
    "## Baseline and Root Mean Square Error"
   ]
  },
  {
   "cell_type": "code",
   "execution_count": 23,
   "id": "2353d490",
   "metadata": {},
   "outputs": [],
   "source": [
    "#Adding mean baseline value to y_train:\n",
    "y_train['baseline_mean'] = train_scaled['tax_value'].mean()\n",
    "#Adding mean baseline value to y_validate:\n",
    "y_validate['baseline_mean'] = train_scaled['tax_value'].mean()"
   ]
  },
  {
   "cell_type": "code",
   "execution_count": 24,
   "id": "dcf8d132",
   "metadata": {},
   "outputs": [
    {
     "data": {
      "text/html": [
       "<div>\n",
       "<style scoped>\n",
       "    .dataframe tbody tr th:only-of-type {\n",
       "        vertical-align: middle;\n",
       "    }\n",
       "\n",
       "    .dataframe tbody tr th {\n",
       "        vertical-align: top;\n",
       "    }\n",
       "\n",
       "    .dataframe thead th {\n",
       "        text-align: right;\n",
       "    }\n",
       "</style>\n",
       "<table border=\"1\" class=\"dataframe\">\n",
       "  <thead>\n",
       "    <tr style=\"text-align: right;\">\n",
       "      <th></th>\n",
       "      <th>tax_value</th>\n",
       "      <th>baseline_mean</th>\n",
       "    </tr>\n",
       "  </thead>\n",
       "  <tbody>\n",
       "    <tr>\n",
       "      <th>47983</th>\n",
       "      <td>46340</td>\n",
       "      <td>452278.903302</td>\n",
       "    </tr>\n",
       "    <tr>\n",
       "      <th>41197</th>\n",
       "      <td>482242</td>\n",
       "      <td>452278.903302</td>\n",
       "    </tr>\n",
       "    <tr>\n",
       "      <th>6789</th>\n",
       "      <td>109035</td>\n",
       "      <td>452278.903302</td>\n",
       "    </tr>\n",
       "    <tr>\n",
       "      <th>35424</th>\n",
       "      <td>618000</td>\n",
       "      <td>452278.903302</td>\n",
       "    </tr>\n",
       "    <tr>\n",
       "      <th>44266</th>\n",
       "      <td>661000</td>\n",
       "      <td>452278.903302</td>\n",
       "    </tr>\n",
       "  </tbody>\n",
       "</table>\n",
       "</div>"
      ],
      "text/plain": [
       "       tax_value  baseline_mean\n",
       "47983      46340  452278.903302\n",
       "41197     482242  452278.903302\n",
       "6789      109035  452278.903302\n",
       "35424     618000  452278.903302\n",
       "44266     661000  452278.903302"
      ]
     },
     "execution_count": 24,
     "metadata": {},
     "output_type": "execute_result"
    }
   ],
   "source": [
    "y_train.head()"
   ]
  },
  {
   "cell_type": "code",
   "execution_count": 25,
   "id": "06d72333",
   "metadata": {},
   "outputs": [
    {
     "data": {
      "text/html": [
       "<div>\n",
       "<style scoped>\n",
       "    .dataframe tbody tr th:only-of-type {\n",
       "        vertical-align: middle;\n",
       "    }\n",
       "\n",
       "    .dataframe tbody tr th {\n",
       "        vertical-align: top;\n",
       "    }\n",
       "\n",
       "    .dataframe thead th {\n",
       "        text-align: right;\n",
       "    }\n",
       "</style>\n",
       "<table border=\"1\" class=\"dataframe\">\n",
       "  <thead>\n",
       "    <tr style=\"text-align: right;\">\n",
       "      <th></th>\n",
       "      <th>model</th>\n",
       "      <th>RMSE_train</th>\n",
       "      <th>RMSE_validate</th>\n",
       "    </tr>\n",
       "  </thead>\n",
       "  <tbody>\n",
       "    <tr>\n",
       "      <th>0</th>\n",
       "      <td>baseline_mean</td>\n",
       "      <td>389831.755763</td>\n",
       "      <td>395757.225741</td>\n",
       "    </tr>\n",
       "  </tbody>\n",
       "</table>\n",
       "</div>"
      ],
      "text/plain": [
       "           model     RMSE_train  RMSE_validate\n",
       "0  baseline_mean  389831.755763  395757.225741"
      ]
     },
     "execution_count": 25,
     "metadata": {},
     "output_type": "execute_result"
    }
   ],
   "source": [
    "# Creating an empty list for baseline results:\n",
    "results = []\n",
    "\n",
    "# Creating a dictionary of baseline mean values:\n",
    "baseline_mean = {\n",
    "    'model':'baseline_mean',\n",
    "    'RMSE_train': mean_squared_error(y_train['tax_value'], y_train['baseline_mean']) ** 0.5,\n",
    "    'RMSE_validate': mean_squared_error(y_validate['tax_value'], y_validate['baseline_mean'])** 0.5\n",
    "}\n",
    "#Appending baseline mean to results list:\n",
    "results.append(baseline_mean)\n",
    "\n",
    "#Creating a DataFrame from the list of result dictionaries:\n",
    "results = pd.DataFrame(results)\n",
    "results"
   ]
  },
  {
   "cell_type": "markdown",
   "id": "7d253aed",
   "metadata": {},
   "source": [
    "## OLS Model"
   ]
  },
  {
   "cell_type": "code",
   "execution_count": 34,
   "id": "297eeaf4",
   "metadata": {},
   "outputs": [
    {
     "name": "stdout",
     "output_type": "stream",
     "text": [
      "RMSE for OLS using LinearRegression\n",
      "Training/In-Sample:  310510.72730761056 \n",
      "Validation/Out-of-Sample:  314145.1168870388\n",
      "Train Explained Variance =  0.366\n",
      "Validate Explained Variance =  0.37\n"
     ]
    }
   ],
   "source": [
    "# Create model\n",
    "lm = LinearRegression(normalize=True,)\n",
    "\n",
    "# fit the model to our training data. We must specify the column in y_train, \n",
    "# since we have converted it to a dataframe from a series! \n",
    "lm.fit(X_train, y_train)\n",
    "\n",
    "# predict train\n",
    "y_train['lm_tax_value_pred'] = lm.predict(X_train)\n",
    "\n",
    "# evaluate: rmse\n",
    "rmse_train = mean_squared_error(y_train.tax_value, y_train.lm_tax_value_pred)**(1/2)\n",
    "\n",
    "# predict validate\n",
    "y_validate['lm_tax_value_pred'] = lm.predict(X_validate)\n",
    "\n",
    "# evaluate: rmse\n",
    "rmse_validate = mean_squared_error(y_validate.tax_value, y_validate.lm_tax_value_pred)**(1/2)\n",
    "\n",
    "print(\"RMSE for OLS using LinearRegression\\nTraining/In-Sample: \", rmse_train, \n",
    "      \"\\nValidation/Out-of-Sample: \", rmse_validate)\n",
    "\n",
    "evs = explained_variance_score(y_train.tax_value, y_train.lm_tax_value_pred)\n",
    "print('Train Explained Variance = ', round(evs,3))\n",
    "evs = explained_variance_score(y_validate.tax_value, y_validate.lm_tax_value_pred)\n",
    "print('Validate Explained Variance = ', round(evs,3))"
   ]
  },
  {
   "cell_type": "markdown",
   "id": "c43503b5",
   "metadata": {},
   "source": [
    "## Lasso Lars model"
   ]
  },
  {
   "cell_type": "code",
   "execution_count": 35,
   "id": "e9e8331c",
   "metadata": {},
   "outputs": [],
   "source": []
  },
  {
   "cell_type": "code",
   "execution_count": 40,
   "id": "1d281552",
   "metadata": {},
   "outputs": [
    {
     "name": "stdout",
     "output_type": "stream",
     "text": [
      "RMSE for OLS using LinearRegression\n",
      "Training/In-Sample:  310510.72730761056 \n",
      "Validation/Out-of-Sample:  314145.1168870388\n",
      "Train Explained Variance =  0.366\n",
      "Validate Explained Variance =  0.37\n"
     ]
    }
   ],
   "source": [
    "# Create model\n",
    "lars = LassoLars(alpha=5)\n",
    "\n",
    "# fit the model to our training data. We must specify the column in y_train, \n",
    "# since we have converted it to a dataframe from a series! \n",
    "lm.fit(X_train, y_train.tax_value)\n",
    "\n",
    "# predict train\n",
    "y_train['lm_tax_value_pred'] = lm.predict(X_train)\n",
    "\n",
    "# evaluate: rmse\n",
    "rmse_train = mean_squared_error(y_train.tax_value, y_train.lm_tax_value_pred)**(1/2)\n",
    "\n",
    "# predict validate\n",
    "y_validate['lm_tax_value_pred'] = lm.predict(X_validate)\n",
    "\n",
    "# evaluate: rmse\n",
    "rmse_validate = mean_squared_error(y_validate.tax_value, y_validate.lm_tax_value_pred)**(1/2)\n",
    "\n",
    "print(\"RMSE for OLS using LinearRegression\\nTraining/In-Sample: \", rmse_train, \n",
    "      \"\\nValidation/Out-of-Sample: \", rmse_validate)\n",
    "\n",
    "evs = explained_variance_score(y_train.tax_value, y_train.lm_tax_value_pred)\n",
    "print('Train Explained Variance = ', round(evs,3))\n",
    "evs = explained_variance_score(y_validate.tax_value, y_validate.lm_tax_value_pred)\n",
    "print('Validate Explained Variance = ', round(evs,3))"
   ]
  },
  {
   "cell_type": "code",
   "execution_count": 32,
   "id": "53708ac3",
   "metadata": {},
   "outputs": [
    {
     "ename": "AttributeError",
     "evalue": "'LassoLars' object has no attribute 'coef_'",
     "output_type": "error",
     "traceback": [
      "\u001b[0;31m---------------------------------------------------------------------------\u001b[0m",
      "\u001b[0;31mAttributeError\u001b[0m                            Traceback (most recent call last)",
      "Input \u001b[0;32mIn [32]\u001b[0m, in \u001b[0;36m<cell line: 1>\u001b[0;34m()\u001b[0m\n\u001b[0;32m----> 1\u001b[0m pd\u001b[38;5;241m.\u001b[39mSeries(\u001b[43mlars\u001b[49m\u001b[38;5;241;43m.\u001b[39;49m\u001b[43mcoef_\u001b[49m, index\u001b[38;5;241m=\u001b[39mX_train\u001b[38;5;241m.\u001b[39mcolumns)\u001b[38;5;241m.\u001b[39msort_values()\n",
      "\u001b[0;31mAttributeError\u001b[0m: 'LassoLars' object has no attribute 'coef_'"
     ]
    }
   ],
   "source": []
  },
  {
   "cell_type": "code",
   "execution_count": null,
   "id": "c9fe12b3",
   "metadata": {},
   "outputs": [],
   "source": []
  }
 ],
 "metadata": {
  "kernelspec": {
   "display_name": "Python 3 (ipykernel)",
   "language": "python",
   "name": "python3"
  },
  "language_info": {
   "codemirror_mode": {
    "name": "ipython",
    "version": 3
   },
   "file_extension": ".py",
   "mimetype": "text/x-python",
   "name": "python",
   "nbconvert_exporter": "python",
   "pygments_lexer": "ipython3",
   "version": "3.9.12"
  }
 },
 "nbformat": 4,
 "nbformat_minor": 5
}
